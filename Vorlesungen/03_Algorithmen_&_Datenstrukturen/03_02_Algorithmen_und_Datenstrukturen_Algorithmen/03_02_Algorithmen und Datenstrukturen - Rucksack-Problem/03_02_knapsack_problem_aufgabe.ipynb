{
 "cells": [
  {
   "cell_type": "markdown",
   "metadata": {},
   "source": [
    "<table style=\"width: 100%\">\n",
    "    <tr style=\"background: #ffffff\">\n",
    "        <td style=\"padding-top:25px; width: 180px\">\n",
    "            <img src=\"https://mci.edu/templates/mci/images/logo.svg\" alt=\"Logo\">\n",
    "        </td>\n",
    "        <td style=\"width: 100%\">\n",
    "            <div style=\"width: 100%; text-align:right\"><font style=\"font-size:38px\"><b>Softwaredesign</b></font></div>\n",
    "            <div style=\"padding-top:0px; width: 100%; text-align:right\"><font size=\"4\"><b>Mechatronik</b></font></div>\n",
    "        </td>\n",
    "    </tr>\n",
    "</table>\n",
    "\n",
    "---\n",
    "\n",
    "# Rucksack-Problem\n",
    "\n",
    "Lösen Sie das folgende Rucksack-Problem z.B. mit einem Brute-Force Algorithmus.\n",
    "\n",
    "Der Rucksack hat ein maximales Fassungsvermögen von 15kg.\n",
    "Die folgenden Gegenstände stehen zur Verfügung:\n",
    "| Gegenstand | Masse in kg | Preis in € |\n",
    "|:----------:|------------:|-----------:|\n",
    "| 1          | $12$        | $4$        |\n",
    "| 2          | $2$         | $2$        |\n",
    "| 3          | $1$         | $1$        |\n",
    "| 4          | $4$         | $10$       |\n",
    "| 5          | $1$         | $2$        |\n",
    "\n"
   ]
  },
  {
   "cell_type": "code",
   "execution_count": null,
   "metadata": {},
   "outputs": [],
   "source": [
    "# Startwerte\n",
    "\n",
    "max_weight = 15\n",
    "weights =  [12, 2, 1, 4, 1]\n",
    "values =  [4, 2, 1, 10, 2]"
   ]
  },
  {
   "cell_type": "markdown",
   "metadata": {},
   "source": [
    "## Darstellung als UML-Aktivitätsdiagramm\n",
    "\n",
    "Stellen Sie Ihnen Lösungsalgorithmus als UML-Aktivitätsdiagramm dar und fügen Sie das Bild in das Notebook ein.\n",
    "\n",
    "Laden Sie das Bild hierzu im Internet hoch (z.B. auf [imgur](https://imgur.com/) oder erstellen Sie es direkt in [plantUML](https://www.plantuml.com/plantuml/uml/) und verlinken Sie das dort gehostete SVG) und verlinken Sie es folgender Maßen, damit es im Notebook erscheint: `![](www.someurl.de/image.jpg)`\n",
    "\n",
    "![](Knapsack.svg)\n",
    "\n"
   ]
  },
  {
   "cell_type": "markdown",
   "metadata": {},
   "source": [
    "## Lösung als Python Code\n",
    "\n",
    "Definieren Sie eine Funktion, welche das Problem löst und geben Sie die optimale Lösung aus.\n",
    "Geben Sie auch auch, wie viele Kombinationen Sie bis zur Lösung ausgetestet haben."
   ]
  },
  {
   "cell_type": "code",
   "execution_count": 8,
   "metadata": {},
   "outputs": [
    {
     "name": "stdout",
     "output_type": "stream",
     "text": [
      "Java\n",
      "14\n",
      "Python\n",
      "3\n",
      "JavaScript\n",
      "6\n"
     ]
    }
   ],
   "source": [
    "#Tipp: Die zip()-Funktion könnte hilfreich sein\n",
    "\n",
    "languages = ['Java', 'Python', 'JavaScript']\n",
    "versions = [14, 3, 6]\n",
    "\n",
    "for language, version in zip(languages, versions):\n",
    "    print(language)\n",
    "    print(version)\n"
   ]
  },
  {
   "cell_type": "code",
   "execution_count": 9,
   "metadata": {},
   "outputs": [],
   "source": [
    "# Tipp2: https://docs.python.org/3/library/itertools.html\n",
    "## Das itertools, kann Ihnen bei der Erstellung von Kombinationen helfen"
   ]
  },
  {
   "cell_type": "code",
   "execution_count": 11,
   "metadata": {},
   "outputs": [
    {
     "name": "stdout",
     "output_type": "stream",
     "text": [
      "(4, 2, 1, 10, 2)\n",
      "[]\n"
     ]
    }
   ],
   "source": [
    "\"\"\"\n",
    "Algorithm FillBackpack\n",
    "\n",
    "Input: A list of weights and max_weight of Backpack\n",
    "Output: Combination as a List to reach max_weight\n",
    "\n",
    "comb_list = []\n",
    "if weights.size = 0 return null\n",
    "largest ← L[0]\n",
    "for each item in L, do\n",
    "    if item > largest, then\n",
    "        largest ← item\n",
    "return largest\n",
    "\"\"\"\n",
    "import itertools\n",
    "\n",
    "def knapsack(weights: list, values: list, max_weight: int):\n",
    "    if len(weights) != len(values): return None\n",
    "\n",
    "    valid_combos = []\n",
    "    for combo in itertools.combinations(values, len(values)):\n",
    "        print(combo)\n",
    "        #if sum(combo) <= max_weight:\n",
    "        #   valid_combos.append(combo)\n",
    "    return valid_combos\n",
    "\n",
    "print(knapsack(weights, values, max_weight))"
   ]
  },
  {
   "cell_type": "markdown",
   "metadata": {},
   "source": [
    "### Testen mit großem Datensatz\n",
    "Sobald die Implementierung für den oben aufgezeigten Datensatz funktioniert, testen Sie diese mit folgendem größeren Datensatz.\n",
    "\n",
    "Je nach Art der Implementierung kann die Berechnung einige Zeit in Anspruch nehmen oder gar nicht beendet werden.  \n",
    "Es ist aktuell egal, falls die Implementierung nicht in angemessener Zeit bzw. überhaupt terminiert."
   ]
  },
  {
   "cell_type": "code",
   "execution_count": 4,
   "metadata": {},
   "outputs": [],
   "source": [
    "max_weight = 850\n",
    "weights = [7, 0, 30, 22, 80, 94, 11, 81, 70, 64, 59, 18, 0, 36, 3, 8, 15, 42, 9, 0, 42, 47, 52, 32, 26, 48, 55, 6, 29, 84, 2, 4, 18, 56, 7, 29, 93, 44, 71, 3, 86, 66, 31, 65, 0, 79, 20, 65, 52, 13]\n",
    "values = [360, 83, 59, 130, 431, 67, 230, 52, 93, 125, 670, 892, 600, 38, 48, 147, 78, 256, 63, 17, 120, 164, 432, 35, 92, 110, 22, 42, 50, 323, 514, 28, 87, 73, 78, 15, 26, 78, 210, 36, 85, 189, 274, 43, 33, 10, 19, 389, 276, 312]\n",
    "\n",
    "assert len(weights) == len(values)"
   ]
  }
 ],
 "metadata": {
  "kernelspec": {
   "display_name": ".venv",
   "language": "python",
   "name": "python3"
  },
  "language_info": {
   "codemirror_mode": {
    "name": "ipython",
    "version": 3
   },
   "file_extension": ".py",
   "mimetype": "text/x-python",
   "name": "python",
   "nbconvert_exporter": "python",
   "pygments_lexer": "ipython3",
   "version": "3.12.3"
  },
  "orig_nbformat": 4
 },
 "nbformat": 4,
 "nbformat_minor": 2
}
