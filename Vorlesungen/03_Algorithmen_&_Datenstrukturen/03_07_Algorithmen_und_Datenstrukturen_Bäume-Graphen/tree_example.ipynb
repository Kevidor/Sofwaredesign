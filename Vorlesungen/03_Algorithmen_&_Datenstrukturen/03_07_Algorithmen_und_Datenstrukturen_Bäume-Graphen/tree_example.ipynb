{
 "cells": [
  {
   "attachments": {},
   "cell_type": "markdown",
   "metadata": {},
   "source": [
    "## Bäume in Python\n",
    "\n",
    "### Eigenschaften:\n",
    "- nicht-linear\n",
    "- dynamisch\n",
    "- homogen (in den meisten Fällen, aber nicht immer)\n",
    "\n",
    "#### Verhalten:\n",
    "- Hierarchische Abhängigkeit von Knoten\n",
    "\n",
    "#### Operatoren:\n",
    "- Notwendige:\n",
    "  - Erzeugen eines leeren Baums --> wird meistens nicht explizit aufgelistet\n",
    "  - `add_child(...)`: An den aktuellen Knoten einen neuen Knoten als Kind anhängen\n",
    "- Hilfreiche:\n",
    "  - `traverse_tree_depth_first`: Traversiert durch Baum der Tiefe entlang &rarr; steigt so tief als möglich den Baum herab\n",
    "  - `traverse_tree_breadth_first`: Traversiert durch Baum der Breite entlang &rarr; zuerst alle Elemente auf einem Niveau"
   ]
  },
  {
   "cell_type": "code",
   "execution_count": null,
   "metadata": {},
   "outputs": [],
   "source": [
    "class Node:\n",
    "    def __init__(self, data):\n",
    "        self.data = data\n",
    "        self.children = []\n",
    "        self.parent = None\n",
    "\n",
    "    def add_child(self, child):\n",
    "        child.parent = self\n",
    "        self.children.append(child)\n",
    "        return child\n",
    "\n",
    "    def traverse_tree_depth_first(self):\n",
    "        yield self\n",
    "        for child in self.children:\n",
    "            yield from child.traverse_tree_depth_first()\n",
    "\n",
    "    def traverse_tree_breadth_first(self):\n",
    "        #usually implemented with a queue, here some \"trickery\" so it works as a generator\n",
    "        yield self\n",
    "        for child in self.traverse_tree_breadth_first():\n",
    "            if not child.children:\n",
    "                return  # exit condition for leaf of tree --> stops infinite recursion\n",
    "            yield from child.children\n",
    "    \n",
    "    def get_level(self):\n",
    "        level = 0\n",
    "        cur_parent = self.parent\n",
    "        while cur_parent:\n",
    "            cur_parent = cur_parent.parent\n",
    "            level += 1\n",
    "        return level         \n",
    "\n",
    "    def print_tree(self):\n",
    "        spaces = \" \" * (self.get_level() * 3 - 2)\n",
    "        prefix = spaces + \"└──\" if self.parent else \"\"\n",
    "        print(F\"{prefix} {self.data}\")\n",
    "        if self.children:\n",
    "            for child in self.children:\n",
    "                child.print_tree()\n",
    "\n",
    "    def __str__(self) -> str:\n",
    "        return F\"{self.data}\"\n"
   ]
  },
  {
   "cell_type": "code",
   "execution_count": 2,
   "metadata": {},
   "outputs": [
    {
     "name": "stdout",
     "output_type": "stream",
     "text": [
      " /\n",
      " └── usr\n",
      "    └── bin\n",
      "    └── games\n",
      "    └── lib\n",
      " └── etc\n",
      "    └── dhcp\n",
      "    └── systemd\n",
      "    └── cron.daily\n",
      "       └── backup\n",
      "    └── cron.hourly\n",
      "    └── cron.weekly\n"
     ]
    }
   ],
   "source": [
    "current = Node(\"/\")\n",
    "root = current\n",
    "usr_dir = root.add_child(Node(\"usr\"))\n",
    "etc_dir = root.add_child(Node(\"etc\"))\n",
    "\n",
    "bin_dir = usr_dir.add_child(Node(\"bin\"))\n",
    "games_dir = usr_dir.add_child(Node(\"games\"))\n",
    "lib_dir = usr_dir.add_child(Node(\"lib\"))\n",
    "\n",
    "dhcp_dir = etc_dir.add_child(Node(\"dhcp\"))\n",
    "systemd_dir = etc_dir.add_child(Node(\"systemd\"))\n",
    "cron_daily_dir = etc_dir.add_child(Node(\"cron.daily\"))\n",
    "cron_hourly_dir = etc_dir.add_child(Node(\"cron.hourly\"))\n",
    "cron_weekly_dir = etc_dir.add_child(Node(\"cron.weekly\"))\n",
    "\n",
    "mandb_dir = cron_daily_dir.add_child(Node(\"backup\"))\n",
    "\n",
    "current.print_tree()"
   ]
  },
  {
   "cell_type": "markdown",
   "metadata": {},
   "source": [
    "### 🤓 Tiefe/Höhe von Bäumen\n",
    "Sind Maße für die Länge eines Pfades von einem Knoten zur Wurzel und umgekehrt.  \n",
    "Für die Tiefe (engl. level) wird der Wurzelknoten als Ursprung gewählt:\n",
    "- Wurzel: 0\n",
    "- Direkte Kinder: 1\n",
    "- etc.\n",
    "  \n",
    "Für die Höhe (engl. height) des Baumes wird von den Blättern weg gezählt:\n",
    "- gewähltes Blatt: 0\n",
    "- Direktes Elternteil: 1\n",
    "- etc."
   ]
  },
  {
   "cell_type": "code",
   "execution_count": 9,
   "metadata": {},
   "outputs": [
    {
     "name": "stdout",
     "output_type": "stream",
     "text": [
      "/: 0\n"
     ]
    }
   ],
   "source": [
    "print(F\"{root.data}: {current.get_level()}\")"
   ]
  },
  {
   "cell_type": "code",
   "execution_count": 10,
   "metadata": {},
   "outputs": [
    {
     "name": "stdout",
     "output_type": "stream",
     "text": [
      "usr: 1\n",
      "etc: 1\n",
      "bin: 2\n",
      "games: 2\n",
      "lib: 2\n"
     ]
    }
   ],
   "source": [
    "# Traverse depth wise for the first path, but print all levels\n",
    "traveresed = False\n",
    "start_node = root\n",
    "while not traveresed:\n",
    "    for child in start_node.children:\n",
    "        print(F\"{child.data}: {child.get_level()}\")\n",
    "    \n",
    "    if start_node.children:\n",
    "        start_node = start_node.children[0]\n",
    "    else:\n",
    "        traveresed = True"
   ]
  },
  {
   "cell_type": "markdown",
   "metadata": {},
   "source": [
    "---\n",
    "## Traversieren von Bäumen\n",
    "### Tiefensuche\n",
    "Es wird so tief wie möglich in den Baum gegangen, bevor ein neuer Pfad eingeschlagen wird.\n",
    "\n",
    "Wenn man hier präziser sein möchte, müsste noch zw. den unterschiedlichen Durchlaufrichtungen der Tiefensuche unterschieden werden."
   ]
  },
  {
   "cell_type": "code",
   "execution_count": 4,
   "metadata": {},
   "outputs": [
    {
     "name": "stdout",
     "output_type": "stream",
     "text": [
      "/: 0\n",
      "usr: 1\n",
      "bin: 2\n",
      "games: 2\n",
      "lib: 2\n",
      "etc: 1\n",
      "dhcp: 2\n",
      "systemd: 2\n",
      "cron.daily: 2\n",
      "backup: 3\n",
      "cron.hourly: 2\n",
      "cron.weekly: 2\n"
     ]
    }
   ],
   "source": [
    "for current in root.traverse_tree_depth_first():\n",
    "    print(F\"{current}: {current.get_level()}\")"
   ]
  },
  {
   "cell_type": "markdown",
   "metadata": {},
   "source": [
    "### Breitensuche\n",
    "Es werden auf einem Niveau alle Knoten besucht, bevor tiefer in den Baum hinein gegangen wird."
   ]
  },
  {
   "cell_type": "code",
   "execution_count": 3,
   "metadata": {},
   "outputs": [
    {
     "name": "stdout",
     "output_type": "stream",
     "text": [
      "/: 0\n",
      "usr: 1\n",
      "etc: 1\n",
      "bin: 2\n",
      "games: 2\n",
      "lib: 2\n",
      "dhcp: 2\n",
      "systemd: 2\n",
      "cron.daily: 2\n",
      "cron.hourly: 2\n",
      "cron.weekly: 2\n"
     ]
    }
   ],
   "source": [
    "for current in root.traverse_tree_breadth_first():\n",
    "    print(F\"{current}: {current.get_level()}\")"
   ]
  },
  {
   "cell_type": "markdown",
   "metadata": {},
   "source": [
    "---\n",
    "### 🤓 Document Object Model für HTML\n",
    "Ein Anwendungsfall von Bäumen als Datenstrukturen sind das Document Object Model, welches die Struktur bzw. das Interface für HTML- & XML-Dateien vorgibt.  \n",
    "Hier werden wir die unten angeführte HTML-Datei parsen und mit unserer Baum-Datenstrukturen repräsentieren.\n",
    "\n",
    "```html\n",
    "<html xmlns=\"http://www.w3.org/1999/xhtml\" xml:lang=\"en\" lang=\"en\">\n",
    "<head>\n",
    "    <title>simple</title>\n",
    "</head>\n",
    "<body>\n",
    "<h1>A simple web page</h1>\n",
    "<ul>\n",
    "    <li>List item one</li>\n",
    "    <li>List item two</li>\n",
    "</ul>\n",
    "<h2><a href=\"http://www.example.com\">a link</a></h2>\n",
    "</body>\n",
    "</html>\n",
    "```\n",
    "\n",
    "Als Beispiel können wie die Website [hier](https://wiki.selfhtml.org/extensions/Selfhtml/frickl.php) darstellen."
   ]
  },
  {
   "cell_type": "code",
   "execution_count": 13,
   "metadata": {},
   "outputs": [
    {
     "name": "stdout",
     "output_type": "stream",
     "text": [
      " Document\n",
      " └── <html xmlns=\"http://www.w3.org/1999/xhtml\" xml:lang=\"en\" lang=\"en\">\n",
      "    └── <head>\n",
      "       └── <title>\n",
      "    └── <body>\n",
      "       └── <h1>\n",
      "       └── <ul>\n",
      "          └── <li>\n",
      "          └── <li>\n",
      "       └── <h2>\n",
      "          └── <a href=\"http://www.example.com\">\n"
     ]
    }
   ],
   "source": [
    "html_string = \"\\\n",
    "<html xmlns=\\\"http://www.w3.org/1999/xhtml\\\" xml:lang=\\\"en\\\" lang=\\\"en\\\"> \\\n",
    "<head> \\\n",
    "    <title>simple</title> \\\n",
    "</head> \\\n",
    "<body> \\\n",
    "<h1>A simple web page</h1> \\\n",
    "<ul> \\\n",
    "    <li>List item one</li> \\\n",
    "    <li>List item two</li> \\\n",
    "</ul> \\\n",
    "<h2><a href=\\\"http://www.example.com\\\">a link</a></h2> \\\n",
    "</body> \\\n",
    "</html> \\\n",
    "\"\n",
    "\n",
    "doc = Node(\"Document\")\n",
    "current = doc #start at document level\n",
    "\n",
    "i = 0\n",
    "while i < len(html_string):\n",
    "    if html_string[i] == \"<\":\n",
    "        if html_string[i+1] == \"/\":\n",
    "            #tag end found\n",
    "            current = current.parent\n",
    "            i += 1\n",
    "        else:\n",
    "            #tag start found\n",
    "            current = current.add_child(Node(\"\"))\n",
    "\n",
    "            #consume characters until end of this tag is reached to get its name/type\n",
    "            start = i\n",
    "            while html_string[i] != \">\":\n",
    "                i += 1\n",
    "            end = i+1\n",
    "\n",
    "            current.data = html_string[start:end]\n",
    "    else:    \n",
    "        #if no match consume next character\n",
    "        i += 1\n",
    "\n",
    "doc.print_tree()"
   ]
  }
 ],
 "metadata": {
  "kernelspec": {
   "display_name": ".venv",
   "language": "python",
   "name": "python3"
  },
  "language_info": {
   "codemirror_mode": {
    "name": "ipython",
    "version": 3
   },
   "file_extension": ".py",
   "mimetype": "text/x-python",
   "name": "python",
   "nbconvert_exporter": "python",
   "pygments_lexer": "ipython3",
   "version": "3.12.3"
  },
  "orig_nbformat": 4
 },
 "nbformat": 4,
 "nbformat_minor": 2
}
