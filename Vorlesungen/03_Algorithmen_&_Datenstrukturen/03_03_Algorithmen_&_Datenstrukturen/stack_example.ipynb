{
 "cells": [
  {
   "attachments": {},
   "cell_type": "markdown",
   "metadata": {},
   "source": [
    "## Stack in Python\n",
    "\n",
    "### Eigenschaften:\n",
    "- linear\n",
    "- dynamisch\n",
    "- homogen (in den meisten Fällen, aber nicht immer)\n",
    "\n",
    "#### Verhalten:\n",
    "- LIFO (Last In First Out)\n",
    "- Limited Access: nur das oberste Element kann gelesen werden\n",
    "\n",
    "#### Operatoren:\n",
    "- Notwendige:\n",
    "  - Erzeugen eines leeren Stapels --> wird meistens nicht explizit aufgelistet\n",
    "  - `push`: Element auf den Stapel legen\n",
    "  - `pop`: Element vom Stapel nehmen\n",
    "- Hilfreiche:\n",
    "  - `size`: Anzahl der Elemente auf dem Stapel\n",
    "  - `is_empty`: `True`, wenn Stapel leer, sonst `False`\n",
    "  - `peek`: oberstes Element lesen, ohne es zu entfernen\n",
    "\n",
    "Der Stack ist ein abstrakter Datentyp. Wir werden nun selbst eine Implementierung für unseren Stack schreiben, dazu nutzen wir den `Python`-Datentyp der Liste."
   ]
  },
  {
   "cell_type": "code",
   "execution_count": 2,
   "metadata": {},
   "outputs": [],
   "source": [
    "class Stack:\n",
    "    # Interne Liste ist privat\n",
    "    def __init__(self) -> None:\n",
    "        self.__items = []\n",
    "\n",
    "    # Notwendige Operationen\n",
    "    def push(self, item) -> None:\n",
    "        self.__items.append(item)\n",
    "\n",
    "    def pop(self):\n",
    "        return self.__items.pop()\n",
    "    \n",
    "    # Hilfreiche Operationen:\n",
    "    def size(self) -> int:\n",
    "        return len(self.__items)\n",
    "    \n",
    "    def is_empty(self) -> bool:\n",
    "        return self.size() == 0\n",
    "    \n",
    "    def peek(self):\n",
    "        return self.__items[-1] # negative Indices zählen von hinten"
   ]
  },
  {
   "attachments": {},
   "cell_type": "markdown",
   "metadata": {},
   "source": [
    "### Notwendige Operationen des Stacks\n",
    "\n",
    "- Erzeugen eines leeren Stacks\n",
    "- `push`\n",
    "- `pop`"
   ]
  },
  {
   "cell_type": "code",
   "execution_count": 3,
   "metadata": {},
   "outputs": [
    {
     "name": "stdout",
     "output_type": "stream",
     "text": [
      "3\n",
      "2\n",
      "1\n"
     ]
    }
   ],
   "source": [
    "stack = Stack()\n",
    "\n",
    "stack.push(1)\n",
    "stack.push(2)\n",
    "stack.push(3)\n",
    "\n",
    "for i in range(3):\n",
    "    print(stack.pop())"
   ]
  },
  {
   "attachments": {},
   "cell_type": "markdown",
   "metadata": {},
   "source": [
    "### 🤓 Verändern des Datentyps der im Stack gespeichert wird\n",
    "\n",
    "Da die Implementierung mit einer `Python` Liste arbeitet, können wir auch mehrere, unterschiedliche Typen gleichzeitig in unserem Stack speichern. "
   ]
  },
  {
   "cell_type": "code",
   "execution_count": 4,
   "metadata": {},
   "outputs": [
    {
     "name": "stdout",
     "output_type": "stream",
     "text": [
      "Wert: Hallo, von Typ: <class 'str'>\n",
      "Wert: 1, von Typ: <class 'int'>\n"
     ]
    }
   ],
   "source": [
    "stack.push(1)\n",
    "stack.push(\"Hallo\")\n",
    "\n",
    "for i in range(stack.size()):\n",
    "    elem = stack.pop()\n",
    "    print(F\"Wert: {elem}, von Typ: {type(elem)}\")"
   ]
  },
  {
   "cell_type": "markdown",
   "metadata": {},
   "source": [
    "Durch Hinzufügen von type hints kann definiert werden, dass dieser Stack homogen sein soll. Dies wird aber nur vom Type Checker überprüft, nicht von `Python` selbst."
   ]
  },
  {
   "cell_type": "code",
   "execution_count": 40,
   "metadata": {},
   "outputs": [],
   "source": [
    "from typing import TypeVar, Generic\n",
    "\n",
    "T = TypeVar(\"T\")\n",
    "\n",
    "class StackHomogeneous(Generic[T]):\n",
    "    def __init__(self) -> None:\n",
    "        self.__items: list[T] = []\n",
    "\n",
    "    # Notwendige Operationen\n",
    "    def push(self, item: T) -> None:       \n",
    "        self.__items.append(item)\n",
    "\n",
    "    def pop(self) -> T:\n",
    "        return self.__items.pop()\n",
    "    \n",
    "    # Hilfreiche Operationen:\n",
    "    def size(self) -> int:\n",
    "        return len(self.__items)\n",
    "    \n",
    "    def is_empty(self) -> bool:\n",
    "        return self.size() == 0\n",
    "    \n",
    "    def peek(self) -> T:\n",
    "        return self.__items[-1] # negative Indices zählen von hinten"
   ]
  },
  {
   "cell_type": "code",
   "execution_count": 41,
   "metadata": {},
   "outputs": [
    {
     "name": "stdout",
     "output_type": "stream",
     "text": [
      "Wert: Hallo, von Typ: <class 'str'>\n",
      "Wert: 1, von Typ: <class 'int'>\n"
     ]
    }
   ],
   "source": [
    "homogeneous_stack = StackHomogeneous[int]()\n",
    "homogeneous_stack.push(1)\n",
    "homogeneous_stack.push(\"Hallo\")\n",
    "\n",
    "for i in range(homogeneous_stack.size()):\n",
    "    elem = homogeneous_stack.pop()\n",
    "    print(F\"Wert: {elem}, von Typ: {type(elem)}\")"
   ]
  },
  {
   "attachments": {},
   "cell_type": "markdown",
   "metadata": {},
   "source": [
    "### 🤓 String Reverse mit Stack"
   ]
  },
  {
   "cell_type": "code",
   "execution_count": 42,
   "metadata": {},
   "outputs": [
    {
     "name": "stdout",
     "output_type": "stream",
     "text": [
      "nretröW raap nie tim gnirtS regnal thcer nie tsi saD\n"
     ]
    }
   ],
   "source": [
    "string = \"Das ist ein recht langer String mit ein paar Wörtern\"\n",
    "\n",
    "def reverse_string(string: str) -> str:\n",
    "    stack = Stack()\n",
    "    result = \"\"\n",
    "\n",
    "    for c in string:\n",
    "        stack.push(c)\n",
    "    for c in range(stack.size()):\n",
    "        result += stack.pop()\n",
    "\n",
    "    return result\n",
    "\n",
    "\n",
    "reversed_string = reverse_string(string)\n",
    "print(reversed_string)"
   ]
  },
  {
   "attachments": {},
   "cell_type": "markdown",
   "metadata": {},
   "source": [
    "### 🤓 Stack um zu überprüfen ob in Programmcode eine Klammer fehlt\n",
    "\n",
    "Wir wollen in folgendem Programmcode überprüfen ob jede geöffnete Klammer `{` auch wieder geschlossen `}` wird. Dazu nutzen wir einen Stack.\n",
    "\n",
    "```C++\n",
    "#include <iostream>\n",
    "int main(void){\n",
    "    for(int i = 0; i < 10; i++){\n",
    "        std::cout << i << std::endl;\n",
    "    }\n",
    "}\n",
    "```"
   ]
  },
  {
   "cell_type": "code",
   "execution_count": 43,
   "metadata": {},
   "outputs": [
    {
     "name": "stdout",
     "output_type": "stream",
     "text": [
      "True\n"
     ]
    }
   ],
   "source": [
    "input_string = \"#include <iostream> \\\n",
    "                int main(void){     \\\n",
    "                    for(int i = 0; i < 10; i++){ \\\n",
    "                        std::cout << i << std::endl; \\\n",
    "                    } \\\n",
    "                }\"\n",
    "\n",
    "def check_brackets(string: str) -> bool:\n",
    "    stack = Stack()\n",
    "\n",
    "    for c in string:\n",
    "        if c == \"{\":\n",
    "            stack.push(c)\n",
    "        elif c == \"}\":\n",
    "            if stack.is_empty():\n",
    "                return False\n",
    "            stack.pop()\n",
    "    \n",
    "    return stack.is_empty()\n",
    "\n",
    "print(check_brackets(input_string))"
   ]
  },
  {
   "cell_type": "markdown",
   "metadata": {},
   "source": [
    "### 🤓 Dezimal zu Binär-String Umwandlung\n",
    "\n",
    "Funktion um eine Dezimalzahl in die Binärdarstellung umzuwandeln. Das Ergebnis soll als String zurückgegeben werden."
   ]
  },
  {
   "cell_type": "code",
   "execution_count": 44,
   "metadata": {},
   "outputs": [],
   "source": [
    "import math\n",
    "\n",
    "def closest_power_of_two(num):\n",
    "    return 2 ** math.ceil(math.log(num, 2))\n",
    "\n",
    "def dec_to_binary_string(num):\n",
    "    stack = Stack()\n",
    "\n",
    "    # Bits zum stack hinzufügen\n",
    "    while num > 0:\n",
    "        remainder = num % 2\n",
    "        stack.push(remainder)\n",
    "        num //= 2\n",
    "\n",
    "    result = \"\"\n",
    "    # String aus den einzelnen bits bauen\n",
    "    while not stack.is_empty():\n",
    "        result += str(stack.pop())\n",
    "\n",
    "    # mit Nullen auffüllen\n",
    "    return result.zfill(closest_power_of_two(len(result)))\n"
   ]
  },
  {
   "cell_type": "code",
   "execution_count": 45,
   "metadata": {},
   "outputs": [
    {
     "name": "stdout",
     "output_type": "stream",
     "text": [
      "dec_to_binary_string(32) = 00100000\n",
      "dec_to_binary_string(31) = 00011111\n",
      "dec_to_binary_string(42) = 00101010\n"
     ]
    }
   ],
   "source": [
    "print(F\"dec_to_binary_string(32) = {dec_to_binary_string(32):>8}\")\n",
    "print(F\"dec_to_binary_string(31) = {dec_to_binary_string(31):>8}\")\n",
    "print(F\"dec_to_binary_string(42) = {dec_to_binary_string(42):>8}\")"
   ]
  }
 ],
 "metadata": {
  "kernelspec": {
   "display_name": ".venv",
   "language": "python",
   "name": "python3"
  },
  "language_info": {
   "codemirror_mode": {
    "name": "ipython",
    "version": 3
   },
   "file_extension": ".py",
   "mimetype": "text/x-python",
   "name": "python",
   "nbconvert_exporter": "python",
   "pygments_lexer": "ipython3",
   "version": "3.12.3"
  },
  "orig_nbformat": 4
 },
 "nbformat": 4,
 "nbformat_minor": 2
}
