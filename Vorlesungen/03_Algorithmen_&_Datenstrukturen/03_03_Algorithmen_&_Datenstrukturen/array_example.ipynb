{
 "cells": [
  {
   "attachments": {},
   "cell_type": "markdown",
   "metadata": {},
   "source": [
    "## Arrays in Python\n",
    "Eigenschaften:\n",
    "- linear\n",
    "- statisch\n",
    "- homogen\n",
    "\n",
    "Können am einfachsten mit `numpy` abgebildet werden"
   ]
  },
  {
   "cell_type": "code",
   "execution_count": 1,
   "metadata": {},
   "outputs": [],
   "source": [
    "import numpy as np"
   ]
  },
  {
   "attachments": {},
   "cell_type": "markdown",
   "metadata": {},
   "source": [
    "### Erstellen eines Numpy Arrays"
   ]
  },
  {
   "cell_type": "code",
   "execution_count": 2,
   "metadata": {},
   "outputs": [
    {
     "name": "stdout",
     "output_type": "stream",
     "text": [
      "Das Array selbst: [1 2 3 4 5]\n",
      "Der Typ der Variable arr: <class 'numpy.ndarray'>\n",
      "Der Typ der im Array gespeichert ist: int64\n"
     ]
    }
   ],
   "source": [
    "arr = np.array([1, 2, 3, 4, 5])\n",
    "\n",
    "print(F\"Das Array selbst: {arr}\")\n",
    "print(F\"Der Typ der Variable arr: {type(arr)}\")\n",
    "print(F\"Der Typ der im Array gespeichert ist: {arr.dtype}\")"
   ]
  },
  {
   "cell_type": "code",
   "execution_count": 3,
   "metadata": {},
   "outputs": [
    {
     "data": {
      "text/plain": [
       "160"
      ]
     },
     "execution_count": 3,
     "metadata": {},
     "output_type": "execute_result"
    }
   ],
   "source": [
    "len(arr)*32"
   ]
  },
  {
   "cell_type": "code",
   "execution_count": 4,
   "metadata": {},
   "outputs": [
    {
     "name": "stdout",
     "output_type": "stream",
     "text": [
      "Memory size of numpy array in bytes: 40\n"
     ]
    }
   ],
   "source": [
    "print(\"Memory size of numpy array in bytes:\", arr.size * arr.itemsize)"
   ]
  },
  {
   "attachments": {},
   "cell_type": "markdown",
   "metadata": {},
   "source": [
    "### Verändern des Datentyps der im Array gespeichert wird"
   ]
  },
  {
   "cell_type": "code",
   "execution_count": 5,
   "metadata": {},
   "outputs": [
    {
     "name": "stdout",
     "output_type": "stream",
     "text": [
      "Das Array selbst: [1. 2. 3. 4. 5.]\n",
      "Der Typ der im Array gespeichert ist: float64\n"
     ]
    }
   ],
   "source": [
    "arr2 = arr.astype(np.float64).copy()\n",
    "print(F\"Das Array selbst: {arr2}\")\n",
    "print(F\"Der Typ der im Array gespeichert ist: {arr2.dtype}\")"
   ]
  },
  {
   "cell_type": "code",
   "execution_count": 6,
   "metadata": {},
   "outputs": [
    {
     "data": {
      "text/plain": [
       "320"
      ]
     },
     "execution_count": 6,
     "metadata": {},
     "output_type": "execute_result"
    }
   ],
   "source": [
    "len(arr2)*64"
   ]
  },
  {
   "cell_type": "code",
   "execution_count": 7,
   "metadata": {},
   "outputs": [
    {
     "name": "stdout",
     "output_type": "stream",
     "text": [
      "Memory size of numpy array in bytes: 40\n"
     ]
    }
   ],
   "source": [
    "print(\"Memory size of numpy array in bytes:\", arr2.size * arr2.itemsize)"
   ]
  },
  {
   "attachments": {},
   "cell_type": "markdown",
   "metadata": {},
   "source": [
    "### \"Verlängern\" eines Arrays\n",
    "\n",
    "Erzeugt einen neuen Array an einer neuen Speicheradresse!"
   ]
  },
  {
   "cell_type": "code",
   "execution_count": 8,
   "metadata": {},
   "outputs": [
    {
     "name": "stdout",
     "output_type": "stream",
     "text": [
      "Array arr hat eine Länge von: 5\n",
      "Array arr hat eine Länge von: 5, arr2 eine Länge von: 6\n",
      "hex(id(arr)) = 0x70d7dffd4390 | hex(id(arr2)) = 0x70d7dffd4210\n"
     ]
    }
   ],
   "source": [
    "print(F\"Array arr hat eine Länge von: {len(arr)}\")\n",
    "\n",
    "arr2 = np.append(arr, 6.0) # append returns a new array that is copied form arr\n",
    "\n",
    "print(F\"Array arr hat eine Länge von: {len(arr)}, arr2 eine Länge von: {len(arr2)}\")\n",
    "\n",
    "print(f\"hex(id(arr)) = {hex(id(arr))} | hex(id(arr2)) = {hex(id(arr2))}\")"
   ]
  },
  {
   "attachments": {},
   "cell_type": "markdown",
   "metadata": {},
   "source": [
    "### Werte des Arrays zuweisen\n",
    "Arrays sind homogen, es können also nur Werte zugewiesen werden, die in den Datentyp des Arrays umgewandelt werden können."
   ]
  },
  {
   "cell_type": "code",
   "execution_count": 9,
   "metadata": {},
   "outputs": [
    {
     "ename": "ValueError",
     "evalue": "invalid literal for int() with base 10: 'Hello World!'",
     "output_type": "error",
     "traceback": [
      "\u001b[0;31m---------------------------------------------------------------------------\u001b[0m",
      "\u001b[0;31mValueError\u001b[0m                                Traceback (most recent call last)",
      "Cell \u001b[0;32mIn[9], line 4\u001b[0m\n\u001b[1;32m      1\u001b[0m arr[\u001b[38;5;241m0\u001b[39m] \u001b[38;5;241m=\u001b[39m \u001b[38;5;241m23.78\u001b[39m\n\u001b[1;32m      2\u001b[0m arr[\u001b[38;5;241m3\u001b[39m] \u001b[38;5;241m=\u001b[39m \u001b[38;5;241m17.36\u001b[39m\n\u001b[0;32m----> 4\u001b[0m \u001b[43marr\u001b[49m\u001b[43m[\u001b[49m\u001b[38;5;241;43m1\u001b[39;49m\u001b[43m]\u001b[49m \u001b[38;5;241m=\u001b[39m \u001b[38;5;124m\"\u001b[39m\u001b[38;5;124mHello World!\u001b[39m\u001b[38;5;124m\"\u001b[39m\n",
      "\u001b[0;31mValueError\u001b[0m: invalid literal for int() with base 10: 'Hello World!'"
     ]
    }
   ],
   "source": [
    "arr[0] = 23.78\n",
    "arr[3] = 17.36\n",
    "\n",
    "arr[1] = \"Hello World!\""
   ]
  },
  {
   "attachments": {},
   "cell_type": "markdown",
   "metadata": {},
   "source": [
    "### Durch Array iterieren"
   ]
  },
  {
   "cell_type": "code",
   "execution_count": null,
   "metadata": {},
   "outputs": [
    {
     "name": "stdout",
     "output_type": "stream",
     "text": [
      "23\n",
      "2\n",
      "3\n",
      "17\n",
      "5\n",
      "--------------------\n",
      "23\n",
      "17\n"
     ]
    }
   ],
   "source": [
    "for num in arr:\n",
    "    print(num)\n",
    "\n",
    "print(20*\"-\")\n",
    "\n",
    "for num in arr:\n",
    "    if num > 12:\n",
    "        print(num)"
   ]
  },
  {
   "attachments": {},
   "cell_type": "markdown",
   "metadata": {},
   "source": [
    "### 🤓 Iterieren mittels \"Generator\"\n",
    "\n",
    "[Generatoren](https://wiki.python.org/moin/Generators) sind Funktionen, die ein Iterator-Objekt zurückgeben. Diese können dann mit `next()` durch-iteriert werden. Hierdurch wird vermieden, dass z.B. ein Array mit 1.000.000 Elementen im Speicher gehalten werden muss, wenn nur ein Element benötigt wird."
   ]
  },
  {
   "cell_type": "code",
   "execution_count": null,
   "metadata": {},
   "outputs": [
    {
     "name": "stdout",
     "output_type": "stream",
     "text": [
      "<class 'generator'>\n",
      "23\n",
      "17\n"
     ]
    }
   ],
   "source": [
    "generator = (x for x in arr if x > 12)\n",
    "print(type(generator))\n",
    "\n",
    "for num in generator:\n",
    "    print(num)"
   ]
  },
  {
   "cell_type": "markdown",
   "metadata": {},
   "source": [
    "Wir können uns auch selbst beliebige Generatoren schreiben:"
   ]
  },
  {
   "cell_type": "code",
   "execution_count": null,
   "metadata": {},
   "outputs": [
    {
     "name": "stdout",
     "output_type": "stream",
     "text": [
      "0\n",
      "1\n",
      "2\n",
      "3\n",
      "4\n",
      "5\n",
      "6\n",
      "7\n",
      "8\n",
      "9\n"
     ]
    }
   ],
   "source": [
    "def my_generator(max_number):\n",
    "    number = 0\n",
    "    while number < max_number:\n",
    "        yield number        # yield is like return, but the generator function is not terminated\n",
    "        number += 1         # the next time the generator is called, it continues after the yield statement\n",
    "\n",
    "for i in my_generator(10):\n",
    "    print(i)"
   ]
  },
  {
   "cell_type": "markdown",
   "metadata": {},
   "source": [
    "### 🤓 Einsatz eines Generators, um Daten aus großer Datei in den Speicher zu laden\n",
    "Generatoren können auch verwendet werden, um Daten aus einer großen Datei in den Speicher zu laden. Das ist beispielsweise nötig, wenn die Datei zu groß ist, um sie komplett in den Speicher zu laden.\n",
    "\n",
    "Unsere Binärdatei können wir dann beispielsweise in Blöcken mit einer gewissen Anzahl an Bytes teilen und jeweils einen Block in den Speicher laden."
   ]
  },
  {
   "cell_type": "code",
   "execution_count": null,
   "metadata": {},
   "outputs": [
    {
     "name": "stdout",
     "output_type": "stream",
     "text": [
      "[0.14916964 0.17900123 0.3141286  0.48434594 0.29705164 0.15213874\n",
      " 0.39914307 0.49567938 0.7667555  0.6693078 ]\n"
     ]
    }
   ],
   "source": [
    "import numpy as np\n",
    "\n",
    "def generate_fake_file(filename, amt_values):\n",
    "    \"\"\"Generates a file with random float32 values as binary data\"\"\"\n",
    "    array = np.random.rand(amt_values).astype('float32')\n",
    "    array.tofile(filename)\n",
    "    return array\n",
    "\n",
    "array = generate_fake_file(\"fake_really_big_file.bin\", 10)\n",
    "print(array)"
   ]
  },
  {
   "cell_type": "code",
   "execution_count": null,
   "metadata": {},
   "outputs": [
    {
     "name": "stdout",
     "output_type": "stream",
     "text": [
      "Raw binary output: b'\\xed\\xbf\\x18>' --> as float: 0.14916963875293732\n",
      "Raw binary output: b'\\x19L7>' --> as float: 0.17900122702121735\n",
      "Raw binary output: b'w\\xd5\\xa0>' --> as float: 0.3141286075115204\n",
      "Raw binary output: b'1\\xfc\\xf7>' --> as float: 0.484345942735672\n",
      "Raw binary output: b\"'\\x17\\x98>\" --> as float: 0.29705163836479187\n",
      "Raw binary output: b'B\\xca\\x1b>' --> as float: 0.15213873982429504\n",
      "Raw binary output: b'{\\\\\\xcc>' --> as float: 0.3991430699825287\n",
      "Raw binary output: b'\\xb0\\xc9\\xfd>' --> as float: 0.4956793785095215\n",
      "Raw binary output: b'\\x17JD?' --> as float: 0.7667555212974548\n",
      "Raw binary output: b'\\xc2W+?' --> as float: 0.6693078279495239\n"
     ]
    }
   ],
   "source": [
    "import struct\n",
    "\n",
    "def read_in_chunks(file, chunk_size=1024):\n",
    "    \"\"\"Generator to read a file object in chunks of a given size in bytes\"\"\"\n",
    "    while True:\n",
    "        data = file.read(chunk_size)\n",
    "        if not data:\n",
    "            break\n",
    "        yield data\n",
    "\n",
    "with open('fake_really_big_file.bin', 'rb') as f:\n",
    "    for chunk in read_in_chunks(f, chunk_size=4):\n",
    "        #To something with the data\n",
    "        chunk_as_float32 = struct.unpack('f', chunk)[0] # unpack converts the binary data to the specified datatype (f = float32) --> returns a tuple, we only need the first element\n",
    "        print(F\"Raw binary output: {chunk} --> as float: {chunk_as_float32}\")"
   ]
  }
 ],
 "metadata": {
  "kernelspec": {
   "display_name": ".venv",
   "language": "python",
   "name": "python3"
  },
  "language_info": {
   "codemirror_mode": {
    "name": "ipython",
    "version": 3
   },
   "file_extension": ".py",
   "mimetype": "text/x-python",
   "name": "python",
   "nbconvert_exporter": "python",
   "pygments_lexer": "ipython3",
   "version": "3.12.3"
  },
  "orig_nbformat": 4
 },
 "nbformat": 4,
 "nbformat_minor": 2
}
