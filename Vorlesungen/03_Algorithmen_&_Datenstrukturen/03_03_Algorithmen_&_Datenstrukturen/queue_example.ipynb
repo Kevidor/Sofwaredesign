{
 "cells": [
  {
   "attachments": {},
   "cell_type": "markdown",
   "metadata": {},
   "source": [
    "## Queue in Python\n",
    "\n",
    "### Eigenschaften:\n",
    "- linear\n",
    "- dynamisch\n",
    "- homogen (in den meisten Fällen, aber nicht immer)\n",
    "\n",
    "#### Verhalten:\n",
    "- FIFO (Last In First Out)\n",
    "- Limited Access: nur das nächste Element kann gelesen werden\n",
    "\n",
    "#### Operatoren:\n",
    "- Notwendige:\n",
    "  - Erzeugen einer leeren Warteschlange --> wird meistens nicht explizit aufgelistet\n",
    "  - `enqueue`: Element hinten and die Queue anfügen\n",
    "  - `dequeue`: Vorderstes Element von Queue entfernen\n",
    "- Hilfreiche:\n",
    "  - `size`: Anzahl der Elemente in der Queue\n",
    "  - `is_empty`: `True`, wenn Queue leer, sonst `False`\n",
    "\n",
    "Die Queue ist ein abstrakter Datentyp. Wir werden nun selbst eine Implementierung für unsere Queue schreiben, dazu nutzen wir den `Python`-Datentyp der Liste."
   ]
  },
  {
   "cell_type": "code",
   "execution_count": 1,
   "metadata": {},
   "outputs": [],
   "source": [
    "class Queue:\n",
    "    # Interne Liste ist privat\n",
    "    def __init__(self) -> None:\n",
    "        self.__items = []\n",
    "\n",
    "    # Notwendige Operationen\n",
    "    def enqueue(self, item) -> None:\n",
    "        self.__items.append(item)\n",
    "\n",
    "    def dequeue(self):\n",
    "        return self.__items.pop(0) # es wird immer das Element mit Index 0 zurück gegeben & entfernt\n",
    "    \n",
    "    # Hilfreiche Operationen:\n",
    "    def size(self) -> int:\n",
    "        return len(self.__items)\n",
    "    \n",
    "    def is_empty(self) -> bool:\n",
    "        return self.size() == 0"
   ]
  },
  {
   "attachments": {},
   "cell_type": "markdown",
   "metadata": {},
   "source": [
    "### Notwendige Operationen der Queue\n",
    "\n",
    "- Erzeugen einer leeren Queue\n",
    "- `enqueue`\n",
    "- `dequeue`"
   ]
  },
  {
   "cell_type": "code",
   "execution_count": 2,
   "metadata": {},
   "outputs": [
    {
     "name": "stdout",
     "output_type": "stream",
     "text": [
      "1\n",
      "2\n",
      "3\n"
     ]
    }
   ],
   "source": [
    "queue = Queue()\n",
    "\n",
    "queue.enqueue(1)\n",
    "queue.enqueue(2)\n",
    "queue.enqueue(3)\n",
    "\n",
    "for i in range(3):\n",
    "    print(queue.dequeue())"
   ]
  },
  {
   "attachments": {},
   "cell_type": "markdown",
   "metadata": {},
   "source": [
    "### Verändern des Datentyps der in der Queue gespeichert wird\n",
    "\n",
    "Da die Implementierung mit einer `Python` Liste arbeitet, können wir auch mehrere, unterschiedliche Typen gleichzeitig in unserer Queue speichern. "
   ]
  },
  {
   "cell_type": "code",
   "execution_count": 4,
   "metadata": {},
   "outputs": [
    {
     "name": "stdout",
     "output_type": "stream",
     "text": [
      "Wert: 1, von Typ: <class 'int'>\n",
      "Wert: Hallo, von Typ: <class 'str'>\n"
     ]
    }
   ],
   "source": [
    "queue.enqueue(1)\n",
    "queue.enqueue(\"Hallo\")\n",
    "\n",
    "for i in range(queue.size()):\n",
    "    elem = queue.dequeue()\n",
    "    print(F\"Wert: {elem}, von Typ: {type(elem)}\")"
   ]
  },
  {
   "attachments": {},
   "cell_type": "markdown",
   "metadata": {},
   "source": [
    "### Umsetzung mit der `Queue` Klasse aus Python"
   ]
  },
  {
   "cell_type": "code",
   "execution_count": 8,
   "metadata": {},
   "outputs": [
    {
     "name": "stdout",
     "output_type": "stream",
     "text": [
      "1\n",
      "2\n",
      "3\n"
     ]
    }
   ],
   "source": [
    "from queue import Queue\n",
    "\n",
    "queue = Queue()\n",
    "queue.put(1)\n",
    "queue.put(2)\n",
    "queue.put(3)\n",
    "\n",
    "for i in range(queue.qsize()):\n",
    "    print(queue.get())"
   ]
  }
 ],
 "metadata": {
  "kernelspec": {
   "display_name": ".venv",
   "language": "python",
   "name": "python3"
  },
  "language_info": {
   "codemirror_mode": {
    "name": "ipython",
    "version": 3
   },
   "file_extension": ".py",
   "mimetype": "text/x-python",
   "name": "python",
   "nbconvert_exporter": "python",
   "pygments_lexer": "ipython3",
   "version": "3.11.3"
  },
  "orig_nbformat": 4
 },
 "nbformat": 4,
 "nbformat_minor": 2
}
