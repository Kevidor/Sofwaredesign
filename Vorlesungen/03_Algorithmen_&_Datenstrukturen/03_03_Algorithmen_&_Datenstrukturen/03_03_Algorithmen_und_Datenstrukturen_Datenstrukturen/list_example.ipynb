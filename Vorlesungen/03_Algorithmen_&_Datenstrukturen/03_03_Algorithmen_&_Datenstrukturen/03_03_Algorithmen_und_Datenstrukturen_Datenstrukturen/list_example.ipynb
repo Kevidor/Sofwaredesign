{
 "cells": [
  {
   "attachments": {},
   "cell_type": "markdown",
   "metadata": {},
   "source": [
    "## (Linked) List in Python\n",
    "\n",
    "### Eigenschaften:\n",
    "- linear\n",
    "- dynamisch\n",
    "- homogen\n",
    "\n",
    "#### Verhalten:\n",
    "- Zugriff auf alle Elemente möglich\n",
    "- Zugriff auf Element aber nur durch \"weiterhangeln\" vom `head`-Knoten\n",
    "\n",
    "#### Operatoren:\n",
    "- Notwendige:\n",
    "  - Erzeugen einer leeren Liste --> wird meistens nicht explizit aufgelistet\n",
    "  - `get`: Element an bestimmter Stelle extrahieren\n",
    "  - `insert`: Element an bestimmter Stelle einfügen\n",
    "  - `remove`: Element an bestimmter Stelle entfernen\n",
    "- Hilfreiche:\n",
    "  - `size`: Anzahl der Elemente in der Queue\n",
    "  - `is_empty`: `True`, wenn Liste leer, sonst `False`\n",
    "\n",
    "Die Liste ist ein abstrakter Datentyp. Wir werden nun selbst eine Implementierung für unsere Liste als `Linked List` schreiben."
   ]
  },
  {
   "cell_type": "code",
   "execution_count": 1,
   "metadata": {},
   "outputs": [],
   "source": [
    "from typing import Any\n",
    "\n",
    "class Node:\n",
    "    def __init__(self, data: Any) -> None:\n",
    "        self.data = data\n",
    "        self.next = None\n",
    "\n",
    "class LinkedList:\n",
    "    # Interne Liste ist privat\n",
    "    def __init__(self) -> None:\n",
    "        self.head = None\n",
    "\n",
    "    def traverse_print(self) -> None:\n",
    "        node = self.head\n",
    "        while node is not None:\n",
    "            print(node.data)\n",
    "            node = node.next\n",
    "\n",
    "    def append(self, data: Any) -> None:\n",
    "        new_node = Node(data)\n",
    "        if self.head is None:\n",
    "            self.head = new_node\n",
    "            return\n",
    "\n",
    "        node = self.head\n",
    "        while node.next is not None:\n",
    "            node = node.next\n",
    "\n",
    "        node.next = new_node\n",
    "\n",
    "    def get(self, index: int) -> Any:\n",
    "        node = self.head\n",
    "        for i in range(0, index):\n",
    "            if node.next is not None:\n",
    "                node = node.next\n",
    "            else:\n",
    "                raise IndexError(\"Index out of bounds\")\n",
    "        return node.data\n",
    "\n",
    "    def insert(self, index: int, data: Any) -> None:\n",
    "        new_node = Node(data)\n",
    "        \n",
    "        if index == 0:\n",
    "            new_node.next = self.head\n",
    "            self.head = new_node\n",
    "            return\n",
    "        \n",
    "        node = self.head\n",
    "        for i in range(0, index - 1):\n",
    "            if node.next is not None:\n",
    "                node = node.next\n",
    "            else:\n",
    "                raise IndexError(\"Index out of bounds\")\n",
    "\n",
    "        new_node.next = node.next\n",
    "        node.next = new_node\n",
    "\n",
    "    def remove(self, index: int) -> None:\n",
    "        if index == 0:\n",
    "            self.head = self.head.next\n",
    "            return\n",
    "\n",
    "        node = self.head\n",
    "        for i in range(0, index - 1):\n",
    "            if node.next is not None:\n",
    "                node = node.next\n",
    "            else:\n",
    "                raise IndexError(\"Index out of bounds\")\n",
    "\n",
    "        node.next = node.next.next"
   ]
  },
  {
   "attachments": {},
   "cell_type": "markdown",
   "metadata": {},
   "source": [
    "### Notwendige Operationen der Linked List:\n",
    "\n",
    "- Erstellen einer leeren Liste & hinzufügen von Knoten\n",
    "- Durch die Liste traversieren\n",
    "- Elemente hinzufügen & entfernen"
   ]
  },
  {
   "cell_type": "code",
   "execution_count": 3,
   "metadata": {},
   "outputs": [
    {
     "name": "stdout",
     "output_type": "stream",
     "text": [
      "1\n",
      "2\n",
      "3\n",
      "\n",
      "Adding element at index 3\n",
      "1\n",
      "2\n",
      "3\n",
      "52\n",
      "\n",
      "Adding element at index 2\n",
      "1\n",
      "2\n",
      "37\n",
      "3\n",
      "52\n",
      "\n",
      "Removing element at index 3\n",
      "1\n",
      "2\n",
      "37\n",
      "52\n",
      "\n",
      "Appending element\n",
      "1\n",
      "2\n",
      "37\n",
      "52\n",
      "99\n"
     ]
    }
   ],
   "source": [
    "my_list = LinkedList()\n",
    "my_list.head = Node(1)\n",
    "node2 = Node(2)\n",
    "my_list.head.next = node2\n",
    "node3 = Node(3)\n",
    "node2.next = node3\n",
    "\n",
    "my_list.traverse_print()\n",
    "\n",
    "print(\"\\nAdding element at index 3\")\n",
    "my_list.insert(3, 52)\n",
    "my_list.traverse_print()\n",
    "\n",
    "print(\"\\nAdding element at index 2\")\n",
    "my_list.insert(2, 37)\n",
    "my_list.traverse_print()\n",
    "\n",
    "print(\"\\nRemoving element at index 3\")\n",
    "my_list.remove(3)\n",
    "my_list.traverse_print()\n",
    "\n",
    "print(\"\\nAppending element\")\n",
    "my_list.append(99)\n",
    "my_list.traverse_print()"
   ]
  },
  {
   "cell_type": "markdown",
   "metadata": {},
   "source": [
    "### 🤓 Iterieren über die Linked List (pythonic)\n",
    "\n",
    "Über unsere selbst erstellte Liste kann derzeit noch nicht wie gehabt in einer `for`-Schleife iteriert werden."
   ]
  },
  {
   "cell_type": "code",
   "execution_count": 5,
   "metadata": {},
   "outputs": [
    {
     "ename": "TypeError",
     "evalue": "'LinkedList' object is not iterable",
     "output_type": "error",
     "traceback": [
      "\u001b[1;31m---------------------------------------------------------------------------\u001b[0m",
      "\u001b[1;31mTypeError\u001b[0m                                 Traceback (most recent call last)",
      "Cell \u001b[1;32mIn[5], line 1\u001b[0m\n\u001b[1;32m----> 1\u001b[0m \u001b[38;5;28;43;01mfor\u001b[39;49;00m\u001b[43m \u001b[49m\u001b[43mi\u001b[49m\u001b[43m \u001b[49m\u001b[38;5;129;43;01min\u001b[39;49;00m\u001b[43m \u001b[49m\u001b[43mmy_list\u001b[49m\u001b[43m:\u001b[49m\n\u001b[0;32m      2\u001b[0m \u001b[43m    \u001b[49m\u001b[38;5;28;43mprint\u001b[39;49m\u001b[43m(\u001b[49m\u001b[43mi\u001b[49m\u001b[43m)\u001b[49m\n",
      "\u001b[1;31mTypeError\u001b[0m: 'LinkedList' object is not iterable"
     ]
    }
   ],
   "source": [
    "for i in my_list:\n",
    "    print(i)"
   ]
  },
  {
   "cell_type": "markdown",
   "metadata": {},
   "source": [
    "Um das zu ermöglichen werden wir unsere Liste um die `__iter__(...)`-Methode erweitern.\n",
    "\n",
    "Die `__iter__(...)`-Methode ist eine sogenannte `Generator`-Funktion, die nach einem internen Aufruf das nächste zu erzeugende Element zurück gibt.\n",
    "\n",
    "Hierzu muss innerhalb der Funktion das `yield`-Statement verwendet werden, welches das aktuelle Element zurück gibt und die Funktion an dieser Stelle unterbricht. Bei einem erneuten Aufruf wird die Funktion an der Stelle fortgesetzt, an der sie unterbrochen wurde."
   ]
  },
  {
   "cell_type": "code",
   "execution_count": 6,
   "metadata": {},
   "outputs": [],
   "source": [
    "class IterableLinkedList(LinkedList):\n",
    "    def __iter__(self):\n",
    "        node = self.head\n",
    "        while node is not None:\n",
    "            yield node.data\n",
    "            node = node.next"
   ]
  },
  {
   "cell_type": "code",
   "execution_count": 7,
   "metadata": {},
   "outputs": [
    {
     "name": "stdout",
     "output_type": "stream",
     "text": [
      "10\n",
      "20\n",
      "30\n"
     ]
    }
   ],
   "source": [
    "my_iterable_list = IterableLinkedList()\n",
    "my_iterable_list.append(10)\n",
    "my_iterable_list.append(20)\n",
    "my_iterable_list.append(30)\n",
    "\n",
    "for elem in my_iterable_list:\n",
    "    print(elem)"
   ]
  }
 ],
 "metadata": {
  "kernelspec": {
   "display_name": "Python 3.12.0 ('.venv': venv)",
   "language": "python",
   "name": "python3"
  },
  "language_info": {
   "codemirror_mode": {
    "name": "ipython",
    "version": 3
   },
   "file_extension": ".py",
   "mimetype": "text/x-python",
   "name": "python",
   "nbconvert_exporter": "python",
   "pygments_lexer": "ipython3",
   "version": "3.11.3"
  },
  "orig_nbformat": 4,
  "vscode": {
   "interpreter": {
    "hash": "76c57e26f4f9521b78521d11f383b61784d356e1c3539658865720b3cdca6c60"
   }
  }
 },
 "nbformat": 4,
 "nbformat_minor": 2
}
