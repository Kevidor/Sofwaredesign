{
 "cells": [
  {
   "cell_type": "markdown",
   "metadata": {},
   "source": [
    "<table style=\"width: 100%\">\n",
    "    <tr style=\"background: #ffffff\">\n",
    "        <td style=\"padding-top:25px; width: 180px\">\n",
    "            <img src=\"https://mci.edu/templates/mci/images/logo.svg\" alt=\"Logo\">\n",
    "        </td>\n",
    "        <td style=\"width: 100%\">\n",
    "            <div style=\"width: 100%; text-align:right\"><font style=\"font-size:38px\"><b>Softwaredesign</b></font></div>\n",
    "            <div style=\"padding-top:0px; width: 100%; text-align:right\"><font size=\"4\"><b>Mechatronik</b></font></div>\n",
    "        </td>\n",
    "    </tr>\n",
    "</table>\n",
    "\n",
    "---\n",
    "\n",
    "# Dijkstra's two stack algorithm - Algorithmus um arithmetische Ausdrücke zu berechnen\n",
    "\n",
    "\n",
    "Der \"Dijkstra Two Stack Algorithmus\", benannt nach [Edsger W. Dijkstra](https://de.wikipedia.org/wiki/Edsger_W._Dijkstra), kann genutzt werden um arithmetsiche Ausdrücke der Form `(5 + ((4 * 2) * (2 + 3)))` zu berechnen. Diese Form wird als [Infixnotation](https://en.wikipedia.org/wiki/Infix_notation) bezeichnet.\n",
    "\n",
    "Im konkreten Fall muss der Ausdruck so vollständig mit Klammern versehen sein, dass die Reihenfolge der Berechnung absolut eindeutig ist. Dies wird als \"fully parenthesized\" bezeichnet.\n",
    "So muss zum Beispiel der Ausdruck  `(5 + 3) * (5 + 1)` als `((5 + 3) * (5 + 1))` geschrieben werden.\n",
    "\n",
    "### Zu implementierende math. Operationen:\n",
    "1. Addition: `+`\n",
    "2. Subtraktion: `-`\n",
    "3. Multiplikation: `*`\n",
    "4. Division: `/`\n",
    "5. Potenz: `^`\n",
    "\n",
    "So muss z.B. für den Ausdruck `((((3 - 2) - (2 ^ 3)) + (2 * 4)) + 3)` richtig die Lösung `4` bestimmt werden.\n",
    "\n",
    "Der Algorithmus nutzt hierfür zwei `Stacks` um die Operatoren und die Operanden des arithmetischen Ausdruckes zu speichern. Diese Stacks werden nach folgenden 5 Regeln befüllt/geleert. Diese Regeln dienen als unsere High-Level-Beschreibung für den Algorithmus. Sie können sich selbstständig auch eine Low-Level-Beschreibung mit allen für die Implementierung notwendigen Zustände erstellen.\n",
    "\n",
    "### Regeln:\n",
    "1. Der Ausdruck wird von links nach rechts durchschritten. Wenn ein Operand (eine Zahl) gefunden wird, wird dieser auf den `Operanden-Stack` gelegt.\n",
    "2. Wenn ein Operator gefunden wird, wird dieser auf den `Operator-Stack` gelegt.\n",
    "3. Wenn eine linke Klammer `(` gefunden wird, wird diese ignoriert.\n",
    "4. Wenn eine rechte Klammer `)` gefunden wird, muss folgendes geschehen:\n",
    "   1. Ein Operator wird vom `Operator-Stack` genommen.\n",
    "   2. Die letzten beiden Operanden werden vom `Operanden-Stack` genommen.\n",
    "   3. Der Operator wird auf die beiden Operanden angewendet.\n",
    "   4. Das Ergebnis wird auf den `Operanden-Stack` gelegt.\n",
    "5. Wenn der gesamte Ausdruck durchschritten wurde, ist das Ergebnis der letzte Wert auf dem `Operanden-Stack`.\n",
    "\n",
    "![](https://mrp123.github.io/MCI-MECH-B-3-SWD-SWD-ILV/03_Algorithmen_und_Datenstrukturen/images/Activity_Dijkstra.svg)\n",
    "\n",
    "### Hinweis:\n",
    "- Die aktuelle/einfachste Implementierung funktioniert nur mit einstelligen Ganzzahlen. Es ist aber möglich, die Implementierung so zu erweitern, dass auch mehrstellige Fließkommazahlen unterstützt werden.\n",
    "- Das Nutzen der `eval(...)`-Funktion ist für diese Aufgabe **nicht** zulässig."
   ]
  },
  {
   "cell_type": "markdown",
   "metadata": {},
   "source": [
    "### Definiton der verwendeten Pakete"
   ]
  },
  {
   "cell_type": "code",
   "execution_count": 15,
   "metadata": {},
   "outputs": [],
   "source": [
    "from typing import Any"
   ]
  },
  {
   "cell_type": "markdown",
   "metadata": {},
   "source": [
    "### Implementieren Sie eine eigene Klasse für einen Stack\n",
    "\n",
    "- Die Klasse soll die Methoden `push`, `pop` und implementieren.\n",
    "- Evtl. kann auch die Methode `peek` in der Implementierung des Algorithmus hilfreich sein"
   ]
  },
  {
   "cell_type": "code",
   "execution_count": 16,
   "metadata": {},
   "outputs": [],
   "source": [
    "class Stack:\n",
    "    \"\"\"\n",
    "    A class to represent the ADT of a stack using a list.\n",
    "\n",
    "    Attributes\n",
    "    ----------\n",
    "    __items : list[Any]\n",
    "        list in which the data is stored\n",
    "\n",
    "    Methods\n",
    "    -------\n",
    "    push(item: Any) -> None:\n",
    "        Adds an element to the stack\n",
    "    pop() -> Any:\n",
    "        Removes an element from the stack\n",
    "    \n",
    "    Optional Methods --> do not have to be implemented, but could be useful\n",
    "    -------\n",
    "    size() -> int:\n",
    "        Returns the number of elements in the stack\n",
    "    is_empty() -> bool:\n",
    "        Returns whether the stack is empty\n",
    "    peek() -> Any:\n",
    "        Returns the top element of the stack\n",
    "    \"\"\"\n",
    "    def __init__(self) -> None:\n",
    "        self.__items: list[Any] = []\n",
    "\n",
    "    def push(self, elem: Any) -> None:\n",
    "        self.__items.append(elem)\n",
    "\n",
    "    def pop(self) -> Any:\n",
    "        return self.__items.pop()\n",
    "    \n",
    "    def size(self) -> int:\n",
    "        return len(self.__items)\n",
    "    \n",
    "    def is_empty(self) -> bool:\n",
    "        return True if self.__items == [] else False\n",
    "\n",
    "    def peek(self) -> Any:\n",
    "        return self.__items[-1]"
   ]
  },
  {
   "cell_type": "markdown",
   "metadata": {},
   "source": [
    "### Hilfsfunktionen:\n",
    "\n",
    "Evtl. kann es für Sie hilfreich sein, wenn Sie folgende Hilfsfunktionen implementieren:\n",
    "```Python\n",
    "def operate(operator: str, operand1: int, operand2: int) -> int:\n",
    "    \"\"\"Wendet den Operator auf die beiden Operanden an und gibt das Ergebnis zurück\"\"\"\n",
    "    pass\n",
    "```\n",
    "Sie können den Dijkstra-Two-Stack-Algorithmus aber auch ohne diese Hilfsfunktion implementieren."
   ]
  },
  {
   "cell_type": "code",
   "execution_count": 17,
   "metadata": {},
   "outputs": [],
   "source": [
    "# Falls als hilfreich erachtet hier die operate(...)-Funktion implementieren\n"
   ]
  },
  {
   "cell_type": "markdown",
   "metadata": {},
   "source": [
    "### Dijkstra-Two-Stack-Algorithm für Ganzzahlen\n",
    "\n",
    "Diese Version funktioniert nur mit einstelligen Ganzzahlen, da sich dann der arithmetische Ausdruck einfach in Operatoren und Operanden zerlegen lässt.\n",
    "Dies ist der Prozess der mit den Regeln 1-5 beschrieben wird."
   ]
  },
  {
   "cell_type": "code",
   "execution_count": 18,
   "metadata": {},
   "outputs": [],
   "source": [
    "def dijkstras_two_stack_algorithm(expression: str) -> int:\n",
    "    \"\"\"Uses the two-stack algorithm to evaluate an arithmetic expression.\n",
    "\n",
    "    Parameters\n",
    "    ----------\n",
    "    expression : str\n",
    "        The mathematical expression in fully parenthesized infix notation.\n",
    "        Must only contain the 5 listed operators and single-digit operands.\n",
    "\n",
    "    Returns\n",
    "    -------\n",
    "    int\n",
    "        The result of the evaluated expression.\n",
    "    \"\"\"\n",
    "    operands = Stack()\n",
    "    operators = Stack()\n",
    "\n",
    "    operators_dict = {\n",
    "    '+': lambda x, y: x + y,\n",
    "    '-': lambda x, y: x - y,\n",
    "    '*': lambda x, y: x * y,\n",
    "    '/': lambda x, y: x / y if y != 0 else float('inf'),\n",
    "    '^': lambda x, y: x ** y\n",
    "    }\n",
    "    buffer = []\n",
    "    for char in expression:\n",
    "        if char.isdigit() or char == \".\":\n",
    "            buffer.append(char)\n",
    "            continue\n",
    "        else:\n",
    "            if buffer != []: operands.push(\"\".join(buffer))\n",
    "            buffer = []\n",
    "        if char in [\"+\", \"-\", \"*\", \"/\", \"^\"]:\n",
    "            operators.push(char)\n",
    "        elif char == \")\":\n",
    "            operand2 = float(operands.pop())\n",
    "            operand1 = float(operands.pop())\n",
    "            operator = operators.pop()\n",
    "\n",
    "            operands.push(operators_dict[operator](operand1, operand2))\n",
    "\n",
    "    return operands.pop()"
   ]
  },
  {
   "cell_type": "markdown",
   "metadata": {},
   "source": [
    "### Erster Funktionstest\n",
    "Suchen Sie sich einen gültigen Ausdruck aus und testen Sie Ihre Implementierung. Vergleichen Sie das Ergebnis z.B. mit dem Ergebnis aus der Python-Konsole"
   ]
  },
  {
   "cell_type": "code",
   "execution_count": 19,
   "metadata": {},
   "outputs": [
    {
     "name": "stdout",
     "output_type": "stream",
     "text": [
      "((5.2 - 3.7) ^ (2.5 + 1.23)) = 4.537539266118044\n"
     ]
    }
   ],
   "source": [
    "# Testfall hier für \"expression\" einfügen\n",
    "expression = \"((5.2 - 3.7) ^ (2.5 + 1.23))\"\n",
    "result = dijkstras_two_stack_algorithm(expression)\n",
    "print(F\"{expression} = {result}\")"
   ]
  },
  {
   "cell_type": "markdown",
   "metadata": {},
   "source": [
    "### Test auf Funktionsfähigkeit mit Ganzzahlen\n",
    "Wir könnten uns wie bereits bei anderen Beispielen unittests für die Funktionsfähigkeit schreiben.\n",
    "Zur Vereinfachung werden wir aber den Algorithmus lediglich mit verschiedenen arithmetischen Ausdrücken testen.\n",
    "\n",
    "Die untere Zelle muss nicht verändert werden, muss aber beim Ausführen \"The algorithm works correctly!\" ausgeben."
   ]
  },
  {
   "cell_type": "code",
   "execution_count": 20,
   "metadata": {},
   "outputs": [
    {
     "name": "stdout",
     "output_type": "stream",
     "text": [
      "The algorithm works correctly!\n"
     ]
    }
   ],
   "source": [
    "try:\n",
    "    # Vorzeichen richtig implementiert?\n",
    "    assert dijkstras_two_stack_algorithm(\"(3 - 2)\") == 1\n",
    "    assert dijkstras_two_stack_algorithm(\"(2 - 3)\") == -1\n",
    "\n",
    "    # Komplexere Ausdrücke\n",
    "    assert dijkstras_two_stack_algorithm(\"((5 + 3) * (5 + 1))\") == 48\n",
    "    assert dijkstras_two_stack_algorithm(\"((((3 - 2) - (2 + 3)) + (2 - 4)) + 3)\") == -3\n",
    "    assert dijkstras_two_stack_algorithm(\"((((3 - 2) - (2 ^ 3)) + (2 * 4)) + 3)\") == 4\n",
    "\n",
    "    print(\"The algorithm works correctly!\")\n",
    "except AssertionError:\n",
    "    print(\"The algorithm does not work correctly yet.\")"
   ]
  },
  {
   "cell_type": "markdown",
   "metadata": {},
   "source": [
    "### Test auf Funktionstüchtigkeit mit Fließkommazahlen\n",
    "Der einfachste Ansatz für den Dijkstra-Two-Stack-Algorithmus funktioniert nur mit einstelligen Ganzzahlen. Es ist aber möglich, die Implementierung so zu erweitern, dass auch mehrstellige Fließkommazahlen unterstützt werden.\n",
    "\n",
    "Dies ist für die Aufgabe **NICHT** notwendig, stellt aber eine interessante Herausforderung dar, die z.B. durch Einsatz von **regulären Ausdrücken** ([Regex](https://de.wikipedia.org/wiki/Regul%C3%A4rer_Ausdruck)) relativ einfach umgesetzt werden kann.\n",
    "\n",
    "Wenn dies nicht geschieht, sollten die beiden `assert`-Statements einen Fehler liefern. Dies ist hier auch der zu erwartende Output."
   ]
  },
  {
   "cell_type": "code",
   "execution_count": 21,
   "metadata": {},
   "outputs": [
    {
     "name": "stdout",
     "output_type": "stream",
     "text": [
      "The algorithm works correctly!\n"
     ]
    }
   ],
   "source": [
    "try:\n",
    "    assert dijkstras_two_stack_algorithm(\"(42 + 17)\") == 59\n",
    "    assert dijkstras_two_stack_algorithm(\"((5.2 - 3.7) ^ (2.5 + 1.23))\") == 4.537539266118044\n",
    "    \n",
    "    print(\"The algorithm works correctly!\")\n",
    "except AssertionError:\n",
    "    print(\"The algorithm does not work correctly yet.\")"
   ]
  }
 ],
 "metadata": {
  "kernelspec": {
   "display_name": ".venv",
   "language": "python",
   "name": "python3"
  },
  "language_info": {
   "codemirror_mode": {
    "name": "ipython",
    "version": 3
   },
   "file_extension": ".py",
   "mimetype": "text/x-python",
   "name": "python",
   "nbconvert_exporter": "python",
   "pygments_lexer": "ipython3",
   "version": "3.12.3"
  },
  "orig_nbformat": 4
 },
 "nbformat": 4,
 "nbformat_minor": 2
}
