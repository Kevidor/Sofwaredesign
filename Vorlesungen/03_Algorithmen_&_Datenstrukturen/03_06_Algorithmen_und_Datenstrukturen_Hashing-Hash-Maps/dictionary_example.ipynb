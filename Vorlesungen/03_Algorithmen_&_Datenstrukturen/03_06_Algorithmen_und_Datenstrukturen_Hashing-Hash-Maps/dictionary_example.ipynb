{
 "cells": [
  {
   "cell_type": "markdown",
   "metadata": {},
   "source": [
    "## Dictionaries in Python\n",
    "\n",
    "### Eigenschaften:\n",
    "- nicht-linear (je nach Definition)\n",
    "- dynamisch\n",
    "- homogen (in den meisten Fällen, aber nicht immer)\n",
    "\n",
    "#### Verhalten:\n",
    "- Hash-basiert &rarr; `key` wird über Hashfunktion in einen Index umgewandelt an dem `value` gespeichert wird\n",
    "\n",
    "#### Operatoren:\n",
    "- Notwendige:\n",
    "  - Erzeugen eines leeren Dictionaries --> wird meistens nicht explizit aufgelistet\n",
    "  - `my_dict['key']` bzw. `my_dict.get('key')`: Zugriff auf Element mit Schlüssel `key` im Dictionary\n",
    "  - `del my_dict['key']`: Löschen des Elements mit Schlüssel `key` im Dictionary\n",
    "- Hilfreiche:\n",
    "  - `items`: Gibt eine Liste von Tupeln zurück, die jeweils ein Element des Dictionaries darstellen\n",
    "  - `keys`: Gibt eine Liste der Schlüssel des Dictionaries zurück\n",
    "  - `values`: Gibt eine Liste der Werte des Dictionaries zurück"
   ]
  },
  {
   "cell_type": "markdown",
   "metadata": {},
   "source": [
    "---\n",
    "## Erzeugen eines leeren Dictionaries & befüllen mit Werten"
   ]
  },
  {
   "cell_type": "code",
   "execution_count": 1,
   "metadata": {},
   "outputs": [
    {
     "name": "stdout",
     "output_type": "stream",
     "text": [
      "{'key1': 'value1', 1: 5, 'key2': 10, 'key3': [1, 2, 3, 4, 5]}\n"
     ]
    }
   ],
   "source": [
    "my_dict = {}\n",
    "\n",
    "my_dict['key1'] = 'value1' # add a key-value pair\n",
    "my_dict[1] = 5 # the type of neither key nor value is generally restricted\n",
    "my_dict['key2'] = 10\n",
    "\n",
    "a_list = [1, 2, 3, 4, 5]\n",
    "my_dict['key3'] = a_list # a value can be a list\n",
    "\n",
    "print(my_dict)"
   ]
  },
  {
   "cell_type": "markdown",
   "metadata": {},
   "source": [
    "Die Schlüssel müssen aber unveränderlich (immutable) sein, also z.B. `int`, `float`, `str`, `tuple`, aber nicht `list` oder `dict`.  \n",
    "Nur in diesem Fall lässt sich ein eindeutiger Hashwert berechnen."
   ]
  },
  {
   "cell_type": "code",
   "execution_count": 3,
   "metadata": {},
   "outputs": [
    {
     "name": "stdout",
     "output_type": "stream",
     "text": [
      "5\n"
     ]
    },
    {
     "ename": "KeyError",
     "evalue": "(1, 2, 3, 4, 5, 6)",
     "output_type": "error",
     "traceback": [
      "\u001b[0;31m---------------------------------------------------------------------------\u001b[0m",
      "\u001b[0;31mKeyError\u001b[0m                                  Traceback (most recent call last)",
      "Cell \u001b[0;32mIn[3], line 5\u001b[0m\n\u001b[1;32m      3\u001b[0m \u001b[38;5;28mprint\u001b[39m(my_dict[\u001b[38;5;28mtuple\u001b[39m(a_list)])\n\u001b[1;32m      4\u001b[0m a_list\u001b[38;5;241m.\u001b[39mappend(\u001b[38;5;241m6\u001b[39m)\n\u001b[0;32m----> 5\u001b[0m \u001b[38;5;28mprint\u001b[39m(\u001b[43mmy_dict\u001b[49m\u001b[43m[\u001b[49m\u001b[38;5;28;43mtuple\u001b[39;49m\u001b[43m(\u001b[49m\u001b[43ma_list\u001b[49m\u001b[43m)\u001b[49m\u001b[43m]\u001b[49m)\n",
      "\u001b[0;31mKeyError\u001b[0m: (1, 2, 3, 4, 5, 6)"
     ]
    }
   ],
   "source": [
    "#my_dict[a_list] = len(a_list)\n",
    "my_dict[tuple(a_list)] = len(a_list)\n",
    "print(my_dict[tuple(a_list)])\n",
    "a_list.append(6)\n",
    "print(my_dict[tuple(a_list)])"
   ]
  },
  {
   "cell_type": "markdown",
   "metadata": {},
   "source": [
    "### Zugriff auf Elemente"
   ]
  },
  {
   "cell_type": "code",
   "execution_count": 4,
   "metadata": {},
   "outputs": [
    {
     "name": "stdout",
     "output_type": "stream",
     "text": [
      "value1\n",
      "Accessing the key 'not_exist' in a read-only-manner raises an exception\n"
     ]
    }
   ],
   "source": [
    "print(my_dict['key1']) # access a value by its key\n",
    "\n",
    "try:\n",
    "    print(my_dict['not_exist'])\n",
    "except KeyError as e:\n",
    "    print(F\"Accessing the key {e} in a read-only-manner raises an exception\")"
   ]
  },
  {
   "cell_type": "markdown",
   "metadata": {},
   "source": [
    "### Iterieren über `keys` und `values`\n",
    "Wir können auch über die `keys` und `values` unseres Dictionaries iterieren."
   ]
  },
  {
   "cell_type": "code",
   "execution_count": 5,
   "metadata": {},
   "outputs": [
    {
     "name": "stdout",
     "output_type": "stream",
     "text": [
      "<class 'str'> -> value1\n",
      "<class 'int'> -> 5\n",
      "<class 'int'> -> 10\n",
      "<class 'list'> -> [1, 2, 3, 4, 5, 6]\n",
      "<class 'int'> -> 5\n"
     ]
    }
   ],
   "source": [
    "my_values = my_dict.values()\n",
    "\n",
    "for value in my_values:\n",
    "    print(F\"{type(value)} -> {value}\")"
   ]
  },
  {
   "cell_type": "code",
   "execution_count": 6,
   "metadata": {},
   "outputs": [
    {
     "name": "stdout",
     "output_type": "stream",
     "text": [
      "<class 'str'> -> key1\n",
      "<class 'int'> -> 1\n",
      "<class 'str'> -> key2\n",
      "<class 'str'> -> key3\n",
      "<class 'tuple'> -> (1, 2, 3, 4, 5)\n"
     ]
    }
   ],
   "source": [
    "my_keys = my_dict.keys()\n",
    "\n",
    "for key in my_keys:\n",
    "    print(F\"{type(key)} -> {key}\")"
   ]
  },
  {
   "cell_type": "markdown",
   "metadata": {},
   "source": [
    "Suche nach Keys in einem Dictionary:"
   ]
  },
  {
   "cell_type": "code",
   "execution_count": 11,
   "metadata": {},
   "outputs": [
    {
     "name": "stdout",
     "output_type": "stream",
     "text": [
      "None\n",
      "key1 - value1\n",
      "1 - 5\n",
      "key2 - 10\n",
      "key3 - [1, 2, 3, 4, 5, 6]\n",
      "(1, 2, 3, 4, 5) - 5\n"
     ]
    }
   ],
   "source": [
    "\"key\" in my_dict.keys()\n",
    "\n",
    "print(my_dict.get((\"key\", 0)))\n",
    "\n",
    "for key, value in my_dict.items():\n",
    "    print(f\"{key} - {value}\")"
   ]
  },
  {
   "cell_type": "markdown",
   "metadata": {},
   "source": [
    "### Hashing von eigenen Klassen\n",
    "Wir können auch eigene Klassen in Dictionaries als `key` verwenden, müssen aber gewährleisten dass die Klassen vergleichbar und hashbar sind.  \n",
    "Für unsere Sensor-Klasse ist dies noch nicht der Fall."
   ]
  },
  {
   "cell_type": "code",
   "execution_count": 12,
   "metadata": {},
   "outputs": [
    {
     "name": "stdout",
     "output_type": "stream",
     "text": [
      "{Sensor: (ID: 1 | Type: Temperature | Sensitivity: 0.5): datetime.datetime(2024, 12, 5, 11, 23, 46, 594259)}\n",
      "{Sensor: (ID: 1 | Type: Temperature | Sensitivity: 0.5): datetime.datetime(2024, 12, 5, 11, 23, 46, 594259), Sensor: (ID: 1 | Type: Temperature | Sensitivity: 0.5): datetime.datetime(2024, 12, 5, 11, 23, 47, 594572)}\n"
     ]
    }
   ],
   "source": [
    "import time\n",
    "from datetime import datetime\n",
    "\n",
    "class Sensor:\n",
    "    def __init__(self, id, sens_type, sensitivity):\n",
    "        self.id = id\n",
    "        self.sens_type = sens_type\n",
    "        self.sensitivity = sensitivity\n",
    "\n",
    "    def __str__(self) -> str:\n",
    "        return F\"Sensor: (ID: {self.id} | Type: {self.sens_type} | Sensitivity: {self.sensitivity})\"\n",
    "    \n",
    "    def __repr__(self) -> str:\n",
    "        return self.__str__()\n",
    "\n",
    "sensor_1 = Sensor(id=1, sens_type=\"Temperature\", sensitivity=0.5)\n",
    "sensor_2 = Sensor(id=1, sens_type=\"Temperature\", sensitivity=0.5)\n",
    "\n",
    "sensor_deployment_dict = {}\n",
    "\n",
    "sensor_deployment_dict[sensor_1] = datetime.now()\n",
    "print(sensor_deployment_dict)\n",
    "\n",
    "time.sleep(1) # wait for a second\n",
    "\n",
    "# The two sensors are identical in terms of their attributes, but they are not the same object!\n",
    "sensor_deployment_dict[sensor_2] = datetime.now()\n",
    "print(sensor_deployment_dict)"
   ]
  },
  {
   "cell_type": "markdown",
   "metadata": {},
   "source": [
    "Durch die Abgeleitete Klasse `HashableSensor` können wir die Klasse `Sensor` hashbar machen.  \n",
    "Hierzu müssen wir die Methoden `__eq__` und `__hash__` überschreiben."
   ]
  },
  {
   "cell_type": "code",
   "execution_count": 13,
   "metadata": {},
   "outputs": [
    {
     "name": "stdout",
     "output_type": "stream",
     "text": [
      "{Sensor: (ID: 1 | Type: Temperature | Sensitivity: 0.5): datetime.datetime(2024, 12, 5, 11, 32, 11, 983131)}\n",
      "{Sensor: (ID: 1 | Type: Temperature | Sensitivity: 0.5): datetime.datetime(2024, 12, 5, 11, 32, 12, 983429)}\n"
     ]
    }
   ],
   "source": [
    "class HashableSensor(Sensor):\n",
    "    def __eq__(self, __value: object) -> bool:\n",
    "        return self.id == __value.id and self.sens_type == __value.sens_type and self.sensitivity == __value.sensitivity\n",
    "    \n",
    "    def __hash__(self) -> int:\n",
    "        return hash((self.id, self.sens_type, self.sensitivity))\n",
    "\n",
    "hashable_sensor_1 = HashableSensor(1, \"Temperature\", 0.5)\n",
    "hashable_sensor_2 = HashableSensor(1, \"Temperature\", 0.5)\n",
    "# The two sensors are identical in terms of their attributes, and are now also identified as the same object due to the __eq__ and __hash__ methods!\n",
    "\n",
    "sensor_deployment_dict.clear()\n",
    "\n",
    "sensor_deployment_dict[hashable_sensor_1] = datetime.now()\n",
    "print(sensor_deployment_dict)\n",
    "\n",
    "time.sleep(1) # wait for a second\n",
    "\n",
    "sensor_deployment_dict[hashable_sensor_2] = datetime.now()\n",
    "print(sensor_deployment_dict)"
   ]
  },
  {
   "cell_type": "markdown",
   "metadata": {},
   "source": [
    "### 🤓 Sortierbar-Machen von eigenen Klassen\n",
    "\n",
    "Unabhäning von der Hashbarkeit können wir auch die Klasse auf ähnliche Art und Weise sortierbar machen. Hierzu müssen wir die Methode `__lt__` erstellen und/oder überschreiben. Python sortiert dann die Objekte anhand des Rückgabewertes dieser Methode. Python nutzt hierfür den sogenannten Timsort-Algorithmus."
   ]
  },
  {
   "cell_type": "code",
   "execution_count": 14,
   "metadata": {},
   "outputs": [
    {
     "name": "stdout",
     "output_type": "stream",
     "text": [
      "[Sensor: (ID: 2 | Type: Temperature | Sensitivity: 0.5), Sensor: (ID: 11 | Type: Temperature | Sensitivity: 0.5), Sensor: (ID: 13 | Type: Temperature | Sensitivity: 0.5)]\n"
     ]
    }
   ],
   "source": [
    "class StortableSensor(Sensor):\n",
    "    def __lt__(self, other) -> bool:\n",
    "        return self.id <= other.id\n",
    "    \n",
    "sortableSensor_1 = StortableSensor(11, \"Temperature\", 0.5)\t\n",
    "sortableSensor_2 = StortableSensor( 2, \"Temperature\", 0.5)\n",
    "sortableSensor_3 = StortableSensor(13, \"Temperature\", 0.5)\n",
    "\n",
    "sensors = [sortableSensor_1, sortableSensor_2, sortableSensor_3]\n",
    "\n",
    "sensors.sort()\n",
    "\n",
    "print(sensors)"
   ]
  }
 ],
 "metadata": {
  "kernelspec": {
   "display_name": ".venv",
   "language": "python",
   "name": "python3"
  },
  "language_info": {
   "codemirror_mode": {
    "name": "ipython",
    "version": 3
   },
   "file_extension": ".py",
   "mimetype": "text/x-python",
   "name": "python",
   "nbconvert_exporter": "python",
   "pygments_lexer": "ipython3",
   "version": "3.12.3"
  },
  "orig_nbformat": 4
 },
 "nbformat": 4,
 "nbformat_minor": 2
}
