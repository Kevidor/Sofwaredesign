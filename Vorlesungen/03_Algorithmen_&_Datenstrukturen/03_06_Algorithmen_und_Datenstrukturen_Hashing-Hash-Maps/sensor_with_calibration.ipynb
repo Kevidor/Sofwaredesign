{
 "cells": [
  {
   "cell_type": "markdown",
   "metadata": {},
   "source": [
    "# ✍ Aufgabe\n",
    "\n",
    "- Wir wollen unsere Sensorklasse aus einer der vergangenen Einheiten erweitern.\n",
    "- Unsere Sensoren bekommen ein Kalibrierungsdatum &rarr; wir wollen nun in der Lage sein unsere Sensoren anhand dieses Merkmales zu sortieren\n",
    "- Wir wollen unsere Sensoren auch serialisieren können &rarr; wir nutzen JSON als Format"
   ]
  },
  {
   "cell_type": "code",
   "execution_count": 10,
   "metadata": {},
   "outputs": [],
   "source": [
    "from datetime import datetime\n",
    "import json"
   ]
  },
  {
   "cell_type": "markdown",
   "metadata": {},
   "source": [
    "## Grundlegendes zur Serialisierung\n",
    "\n",
    "### Dictionarys und Listen\n",
    "\n",
    "Dictionarys und Listen können in Python einfach in JSON-Strings umgewandelt werden. Dazu gibt es die Funktionen `json.dumps()` und `json.loads()`. Die Funktion `json.dumps()` wandelt ein Dictionary oder eine Liste in einen JSON-String um. Die Funktion `json.loads()` wandelt einen JSON-String in ein Dictionary oder eine Liste um.\n"
   ]
  },
  {
   "cell_type": "code",
   "execution_count": 11,
   "metadata": {},
   "outputs": [
    {
     "name": "stdout",
     "output_type": "stream",
     "text": [
      "{\n",
      "    \"A\": \"T\",\n",
      "    \"T\": \"A\",\n",
      "    \"G\": \"C\",\n",
      "    \"C\": \"G\"\n",
      "}\n"
     ]
    }
   ],
   "source": [
    "my_dict = {\"A\": \"T\", \"T\": \"A\", \"G\": \"C\",\"C\" : \"G\"}\n",
    "\n",
    "json_string = json.dumps(my_dict, indent=4)\n",
    "\n",
    "print(json_string)"
   ]
  },
  {
   "cell_type": "code",
   "execution_count": 12,
   "metadata": {},
   "outputs": [
    {
     "name": "stdout",
     "output_type": "stream",
     "text": [
      "{'A': 'T', 'T': 'A', 'G': 'C', 'C': 'G'}\n"
     ]
    }
   ],
   "source": [
    "string_to_json = json.loads(json_string)\n",
    "print(string_to_json)"
   ]
  },
  {
   "cell_type": "markdown",
   "metadata": {},
   "source": [
    "Anstelle von `json.loads()` kann auch `json.load()` verwendet werden, um direkt aus einer Datei zu lesen. Analog dazu gibt es auch `json.dump()`."
   ]
  },
  {
   "cell_type": "code",
   "execution_count": 13,
   "metadata": {},
   "outputs": [],
   "source": [
    "with open(\"data.json\", \"w\") as f:\n",
    "    json.dump(my_dict, indent=4, fp=f)"
   ]
  },
  {
   "cell_type": "code",
   "execution_count": 14,
   "metadata": {},
   "outputs": [
    {
     "data": {
      "text/plain": [
       "{'A': 'T', 'T': 'A', 'G': 'C', 'C': 'G'}"
      ]
     },
     "execution_count": 14,
     "metadata": {},
     "output_type": "execute_result"
    }
   ],
   "source": [
    "with open(\"data.json\", \"r\") as f:\n",
    "    my_dict = json.load(f)\n",
    "\n",
    "my_dict"
   ]
  },
  {
   "cell_type": "code",
   "execution_count": 15,
   "metadata": {},
   "outputs": [],
   "source": [
    "class my_nucleotides_dict(dict):\n",
    "    def __init__(self):\n",
    "        self = {\"A\": \"T\", \"T\": \"A\", \"G\": \"C\",\"C\" : \"G\"}\n",
    "    def __str__(self):\n",
    "        return json.dumps(self, indent=4)"
   ]
  },
  {
   "cell_type": "markdown",
   "metadata": {},
   "source": [
    "### Objekte\n",
    "\n",
    "Objekte können nicht direkt in JSON umgewandelt werden. Dazu müssen wir die `__dict__`-Methode verwenden, um ein Dictionary zu erhalten, das wir dann in einen JSON-String umwandeln können. Sofern alle Attribute primitive Datentypen sind geschieht dies automatisch."
   ]
  },
  {
   "cell_type": "code",
   "execution_count": 16,
   "metadata": {},
   "outputs": [
    {
     "name": "stdout",
     "output_type": "stream",
     "text": [
      "{'id': 1, 'sens_type': 'Temperature', 'sensitivity': 1.0}\n"
     ]
    }
   ],
   "source": [
    "class Sensor():\n",
    "\n",
    "    def __init__(self, id: int, sens_type: str, sensitivity: float = 1.0):\n",
    "        self.id = id\n",
    "        self.sens_type = sens_type\n",
    "        self.sensitivity = sensitivity\n",
    "\n",
    "s1 = Sensor(1, \"Temperature\")\n",
    "\n",
    "print(s1.__dict__)"
   ]
  },
  {
   "cell_type": "code",
   "execution_count": 17,
   "metadata": {},
   "outputs": [],
   "source": [
    "class DataPoint():\n",
    "    def __init__(self, value, timestamp):\n",
    "        self.value = value\n",
    "        self.timestamp = timestamp\n",
    "\n",
    "class SensorWithData(Sensor):\n",
    "    def __init__(self, id: int, sens_type: str, sensitivity: float, data: DataPoint):\n",
    "        super().__init__(id, sens_type, sensitivity)\n",
    "        self.data = data\n",
    "\n",
    "d1 = DataPoint(23, \"21.02.2000\")\n",
    "\n",
    "s2 = SensorWithData(2, \"Humidity\", 3.0, d1)"
   ]
  },
  {
   "cell_type": "markdown",
   "metadata": {},
   "source": [
    "Sind die Attribute jedoch komplexer, so müssen wir diese rekursiv in ein Dictionary umwandeln. "
   ]
  },
  {
   "cell_type": "code",
   "execution_count": 18,
   "metadata": {},
   "outputs": [
    {
     "data": {
      "text/plain": [
       "{'id': 2,\n",
       " 'sens_type': 'Humidity',\n",
       " 'sensitivity': 3.0,\n",
       " 'data': <__main__.DataPoint at 0x7f02c1b10080>}"
      ]
     },
     "execution_count": 18,
     "metadata": {},
     "output_type": "execute_result"
    }
   ],
   "source": [
    "s2.__dict__"
   ]
  },
  {
   "cell_type": "markdown",
   "metadata": {},
   "source": [
    "Dies kann beispielsweise mit der Funktion `json.dumps()` geschehen die in `__repr__`-Methode aufgerufen wird."
   ]
  },
  {
   "cell_type": "code",
   "execution_count": 19,
   "metadata": {},
   "outputs": [],
   "source": [
    "class DataPoint():\n",
    "    def __init__(self, value, timestamp):\n",
    "        self.value = value\n",
    "        self.timestamp = timestamp\n",
    "    def __repr__(self) -> str:\n",
    "        return json.dumps(self.__dict__)\n",
    "\n",
    "class SensorWithData(Sensor):\n",
    "    def __init__(self, id: int, sens_type: str, sensitivity: float, data: DataPoint):\n",
    "        super().__init__(id, sens_type, sensitivity)\n",
    "        self.data = data\n",
    "\n",
    "    def __str__(self):\n",
    "        return {\"id\": self.id, \"sens_type\": self.sens_type, \"sensitivity\": self.sensitivity, \"data\": self.data.__repr__()}"
   ]
  },
  {
   "cell_type": "code",
   "execution_count": 16,
   "metadata": {},
   "outputs": [
    {
     "data": {
      "text/plain": [
       "{'id': 2,\n",
       " 'sens_type': 'Humidity',\n",
       " 'sensitivity': 3.0,\n",
       " 'data': {\"value\": 23, \"timestamp\": \"21.02.2000\"}}"
      ]
     },
     "execution_count": 16,
     "metadata": {},
     "output_type": "execute_result"
    }
   ],
   "source": [
    "d2 = DataPoint(23, \"21.02.2000\")\n",
    "\n",
    "s3 = SensorWithData(2, \"Humidity\", 3.0, d2)\n",
    "\n",
    "s3.__dict__"
   ]
  },
  {
   "cell_type": "markdown",
   "metadata": {},
   "source": [
    "# Erweiterung unserer Sensor-Klasse"
   ]
  },
  {
   "cell_type": "code",
   "execution_count": 17,
   "metadata": {},
   "outputs": [],
   "source": [
    "class Sensor:\n",
    "    \"\"\"\n",
    "    A class representing a sensor with a numerical ID, a type, a sensitivity, and a history of measurements.\n",
    "\n",
    "    Attributes:\n",
    "        id (int): The numerical ID of the sensor.\n",
    "        sens_type (str): The name of the sensor.\n",
    "        sensitivity (float): The sensitivity of the sensor\n",
    "        calibration_date (datetime): The date of the last calibration.\n",
    "        last_measurement (float): The last measured value.\n",
    "        measurement_history (List[float]): A list of the last 10 measured values.\n",
    "    \"\"\"\n",
    "\n",
    "    def __init__(self, id: int, sens_type: str, sensitivity: float, calibration_date: datetime):\n",
    "        \"\"\"\n",
    "        Initializes a new Sensor instance.\n",
    "\n",
    "        Args:\n",
    "            id (int): The numerical ID of the sensor.\n",
    "            sens_type (str): The name of the sensor.\n",
    "            sensitivity (float): The sensitivity of the sensor\n",
    "            calibration_date (datetime): The date of the last calibration.\n",
    "        \"\"\"\n",
    "        self.id = id\n",
    "        self.sens_type = sens_type\n",
    "        self.sensitivity = sensitivity\n",
    "        self.calibration_date = calibration_date\n",
    "        self.__last_measurement = 0.0\n",
    "        self.measurement_history = []\n",
    "\n",
    "    def set_last_measurement(self, measurement: float) -> None:\n",
    "        \"\"\"\n",
    "        Sets the last measurement value and adds it to the measurement history.\n",
    "\n",
    "        Args:\n",
    "            measurement (float): The new measurement value.\n",
    "        \"\"\"\n",
    "        self.__last_measurement = measurement\n",
    "        self.measurement_history.append(measurement)\n",
    "        if len(self.measurement_history) > 10:\n",
    "            self.measurement_history.pop(0)\n",
    "\n",
    "    def calculate_mean(self) -> float:\n",
    "        return sum(self.measurement_history) / len(self.measurement_history)\n",
    "\n",
    "    def print_mean(self) -> None:\n",
    "        \"\"\"\n",
    "        Prints the mean of all measurements in the history.\n",
    "        \"\"\"\n",
    "        if len(self.measurement_history) == 0:\n",
    "            print(f\"No measurements available for sensor '{self.sens_type}' (ID: {self.id}).\")\n",
    "        else:\n",
    "            mean = self.calculate_mean()\n",
    "            print(f\"Mean measurement for sensor '{self.sens_type}' (ID: {self.id}): {mean:.2f}\")\n",
    "\n",
    "    def __str__(self) -> str:\n",
    "        return F\"Sensor '{self.sens_type}' (ID: {self.id}) was calibrated on {self.calibration_date.strftime('%d.%m.%Y')}.\"\n",
    "    \n",
    "    def __repr__(self) -> str:\n",
    "        return self.__str__()\n"
   ]
  },
  {
   "cell_type": "markdown",
   "metadata": {},
   "source": [
    "## Wir wollen unsere Sensoren anhand des Kalibrierungsdatums sortieren können\n",
    "Standardmäßig sind unsere selbst erstellen Klassen nicht mit der normalen `sort`-Methode sortierbar."
   ]
  },
  {
   "cell_type": "code",
   "execution_count": 18,
   "metadata": {},
   "outputs": [
    {
     "ename": "TypeError",
     "evalue": "'<' not supported between instances of 'Sensor' and 'Sensor'",
     "output_type": "error",
     "traceback": [
      "\u001b[1;31m---------------------------------------------------------------------------\u001b[0m",
      "\u001b[1;31mTypeError\u001b[0m                                 Traceback (most recent call last)",
      "\u001b[1;32mh:\\01_Lehre\\01_Kurse\\Softwaredesign\\MCI-MECH-B-3-SWD-SWD-ILV\\03_Algorithmen_und_Datenstrukturen\\Examples\\Hashing\\sensor_with_calibration.ipynb Cell 21\u001b[0m line \u001b[0;36m9\n\u001b[0;32m      <a href='vscode-notebook-cell:/h%3A/01_Lehre/01_Kurse/Softwaredesign/MCI-MECH-B-3-SWD-SWD-ILV/03_Algorithmen_und_Datenstrukturen/Examples/Hashing/sensor_with_calibration.ipynb#X26sZmlsZQ%3D%3D?line=5'>6</a>\u001b[0m \u001b[39m#%%\u001b[39;00m\n\u001b[0;32m      <a href='vscode-notebook-cell:/h%3A/01_Lehre/01_Kurse/Softwaredesign/MCI-MECH-B-3-SWD-SWD-ILV/03_Algorithmen_und_Datenstrukturen/Examples/Hashing/sensor_with_calibration.ipynb#X26sZmlsZQ%3D%3D?line=6'>7</a>\u001b[0m \u001b[39m# Create a list of sensors that should be sorted by calibration date\u001b[39;00m\n\u001b[0;32m      <a href='vscode-notebook-cell:/h%3A/01_Lehre/01_Kurse/Softwaredesign/MCI-MECH-B-3-SWD-SWD-ILV/03_Algorithmen_und_Datenstrukturen/Examples/Hashing/sensor_with_calibration.ipynb#X26sZmlsZQ%3D%3D?line=7'>8</a>\u001b[0m my_sensors \u001b[39m=\u001b[39m [sensor_1, sensor_2, sensor_3]\n\u001b[1;32m----> <a href='vscode-notebook-cell:/h%3A/01_Lehre/01_Kurse/Softwaredesign/MCI-MECH-B-3-SWD-SWD-ILV/03_Algorithmen_und_Datenstrukturen/Examples/Hashing/sensor_with_calibration.ipynb#X26sZmlsZQ%3D%3D?line=8'>9</a>\u001b[0m my_sensors\u001b[39m.\u001b[39;49msort()\n\u001b[0;32m     <a href='vscode-notebook-cell:/h%3A/01_Lehre/01_Kurse/Softwaredesign/MCI-MECH-B-3-SWD-SWD-ILV/03_Algorithmen_und_Datenstrukturen/Examples/Hashing/sensor_with_calibration.ipynb#X26sZmlsZQ%3D%3D?line=10'>11</a>\u001b[0m \u001b[39mfor\u001b[39;00m my_sensor \u001b[39min\u001b[39;00m my_sensors:\n\u001b[0;32m     <a href='vscode-notebook-cell:/h%3A/01_Lehre/01_Kurse/Softwaredesign/MCI-MECH-B-3-SWD-SWD-ILV/03_Algorithmen_und_Datenstrukturen/Examples/Hashing/sensor_with_calibration.ipynb#X26sZmlsZQ%3D%3D?line=11'>12</a>\u001b[0m     \u001b[39mprint\u001b[39m(my_sensor)\n",
      "\u001b[1;31mTypeError\u001b[0m: '<' not supported between instances of 'Sensor' and 'Sensor'"
     ]
    }
   ],
   "source": [
    "#%%\n",
    "sensor_1 = Sensor(1, \"Temperature\", 1.0, datetime(2022, 1, 1))\n",
    "sensor_2 = Sensor(2, \"Pressure\", 3.0, datetime(2023, 8, 17))\n",
    "sensor_3 = Sensor(3, \"Humidity\", 5.0, datetime(2021, 10, 31))\n",
    "\n",
    "#%%\n",
    "# Create a list of sensors that should be sorted by calibration date\n",
    "my_sensors = [sensor_1, sensor_2, sensor_3]\n",
    "my_sensors.sort()\n",
    "\n",
    "for my_sensor in my_sensors:\n",
    "    print(my_sensor)"
   ]
  },
  {
   "cell_type": "markdown",
   "metadata": {},
   "source": [
    "Wir erweitern unsere Klasse um eine Methode `__lt__` (less than), die zwei Sensoren vergleicht und `True` zurückgibt, wenn der erste Sensor kleiner als der zweite ist.  \n",
    "Sobald wir unsere Sensoren vergleichbar gemacht haben, können diese auch sortiert werden."
   ]
  },
  {
   "cell_type": "code",
   "execution_count": 19,
   "metadata": {},
   "outputs": [
    {
     "name": "stdout",
     "output_type": "stream",
     "text": [
      "Sensor 'Humidity' (ID: 3) was calibrated on 31.10.2021.\n",
      "Sensor 'Temperature' (ID: 1) was calibrated on 01.01.2022.\n",
      "Sensor 'Pressure' (ID: 2) was calibrated on 17.08.2023.\n"
     ]
    }
   ],
   "source": [
    "class SortableSensor(Sensor):\n",
    "    # dunder method needed to make object sortable\n",
    "    def __lt__(self, other):\n",
    "        return self.calibration_date < other.calibration_date\n",
    "    \n",
    "\n",
    "sensor_1 = SortableSensor(1, \"Temperature\", 1.0, datetime(2022, 1, 1))\n",
    "sensor_2 = SortableSensor(2, \"Pressure\", 3.0, datetime(2023, 8, 17))\n",
    "sensor_3 = SortableSensor(3, \"Humidity\", 5.0, datetime(2021, 10, 31))\n",
    "\n",
    "#%%\n",
    "# Create a list of sensors that should be sorted by calibration date\n",
    "my_sensors = [sensor_1, sensor_2, sensor_3]\n",
    "my_sensors.sort()\n",
    "\n",
    "for my_sensor in my_sensors:\n",
    "    print(my_sensor)"
   ]
  },
  {
   "cell_type": "markdown",
   "metadata": {},
   "source": [
    "## 🤓 Sortieren nach anderen Kriterien\n",
    "Jetzt werden unsere Sensoren immer nach dem Kalibrierungsdatum sortiert."
   ]
  },
  {
   "cell_type": "code",
   "execution_count": 20,
   "metadata": {},
   "outputs": [
    {
     "name": "stdout",
     "output_type": "stream",
     "text": [
      "Sensor 'Temperature' (ID: 1) was calibrated on 01.01.2022.\n",
      "Sensor 'Pressure' (ID: 2) was calibrated on 17.08.2023.\n",
      "Sensor 'Humidity' (ID: 3) was calibrated on 31.10.2021.\n"
     ]
    }
   ],
   "source": [
    "# By default sensor can now only be sorted by the calibration date.\n",
    "# If that is not desired we have to specified a sorting function to override the default one\n",
    "\n",
    "my_sensors.sort(key=lambda x: x.id)\n",
    "\n",
    "for my_sensor in my_sensors:\n",
    "    print(my_sensor)"
   ]
  },
  {
   "cell_type": "markdown",
   "metadata": {},
   "source": [
    "## Serialisierung unserer Sensoren im JSON-Format\n",
    "Im Austausch mit anderen Systemen (meist Web-Servern) werden Austauschformate für Daten benötigt. Ein gängiges dieser Formate ist JSON, welches in seiner Struktur Python-Dictionaries stark ähnelt."
   ]
  },
  {
   "cell_type": "code",
   "execution_count": 21,
   "metadata": {},
   "outputs": [
    {
     "data": {
      "text/plain": [
       "{'id': 4,\n",
       " 'sens_type': 'Acceleration',\n",
       " 'sensitivity': 9.81,\n",
       " 'calibration_date': None,\n",
       " '_Sensor__last_measurement': 0.0,\n",
       " 'measurement_history': []}"
      ]
     },
     "execution_count": 21,
     "metadata": {},
     "output_type": "execute_result"
    }
   ],
   "source": [
    "sensor_4 = SortableSensor(4, \"Acceleration\", 9.81, None)\n",
    "sensor_4.__dict__"
   ]
  },
  {
   "cell_type": "markdown",
   "metadata": {},
   "source": [
    "Solange wir nur primitive Datentypen verwenden, können wir unsere Sensoren einfach in JSON umwandeln. In diesem Fall ist das Kalibrierungsdatum nicht gesetzt und wir laufen in keine Probleme."
   ]
  },
  {
   "cell_type": "code",
   "execution_count": 22,
   "metadata": {},
   "outputs": [
    {
     "name": "stdout",
     "output_type": "stream",
     "text": [
      "{\n",
      "  \"id\": 4,\n",
      "  \"sens_type\": \"Acceleration\",\n",
      "  \"sensitivity\": 9.81,\n",
      "  \"calibration_date\": null,\n",
      "  \"_Sensor__last_measurement\": 0.0,\n",
      "  \"measurement_history\": []\n",
      "}\n"
     ]
    }
   ],
   "source": [
    "json_string = json.dumps(sensor_4.__dict__, indent=2)\n",
    "print(json_string)"
   ]
  },
  {
   "cell_type": "markdown",
   "metadata": {},
   "source": [
    "Wir wollen nun unsere ganze Liste an Sensoren in ein JSON-Format bringen. \n",
    "\n",
    "Hierbei tritt aber ein **Fehler** auf, da das Kalibrierungsdatum der anderen drei Sensoren nicht in JSON umgewandelt werden kann. Wir müssen also eine Möglichkeit finden, wie wir unser Kalibrierungsdatum in ein JSON-Format umwandeln können."
   ]
  },
  {
   "cell_type": "code",
   "execution_count": 23,
   "metadata": {},
   "outputs": [
    {
     "ename": "TypeError",
     "evalue": "Object of type SortableSensor is not JSON serializable",
     "output_type": "error",
     "traceback": [
      "\u001b[1;31m---------------------------------------------------------------------------\u001b[0m",
      "\u001b[1;31mTypeError\u001b[0m                                 Traceback (most recent call last)",
      "\u001b[1;32mh:\\01_Lehre\\01_Kurse\\Softwaredesign\\MCI-MECH-B-3-SWD-SWD-ILV\\03_Algorithmen_und_Datenstrukturen\\Examples\\Hashing\\sensor_with_calibration.ipynb Cell 31\u001b[0m line \u001b[0;36m2\n\u001b[0;32m      <a href='vscode-notebook-cell:/h%3A/01_Lehre/01_Kurse/Softwaredesign/MCI-MECH-B-3-SWD-SWD-ILV/03_Algorithmen_und_Datenstrukturen/Examples/Hashing/sensor_with_calibration.ipynb#X42sZmlsZQ%3D%3D?line=0'>1</a>\u001b[0m \u001b[39m# Serialize object to json string --> uses similar structure to a dict\u001b[39;00m\n\u001b[1;32m----> <a href='vscode-notebook-cell:/h%3A/01_Lehre/01_Kurse/Softwaredesign/MCI-MECH-B-3-SWD-SWD-ILV/03_Algorithmen_und_Datenstrukturen/Examples/Hashing/sensor_with_calibration.ipynb#X42sZmlsZQ%3D%3D?line=1'>2</a>\u001b[0m json_string \u001b[39m=\u001b[39m json\u001b[39m.\u001b[39;49mdumps(my_sensors, indent\u001b[39m=\u001b[39;49m\u001b[39m2\u001b[39;49m)\n\u001b[0;32m      <a href='vscode-notebook-cell:/h%3A/01_Lehre/01_Kurse/Softwaredesign/MCI-MECH-B-3-SWD-SWD-ILV/03_Algorithmen_und_Datenstrukturen/Examples/Hashing/sensor_with_calibration.ipynb#X42sZmlsZQ%3D%3D?line=2'>3</a>\u001b[0m \u001b[39mprint\u001b[39m(json_string)\n",
      "File \u001b[1;32m~\\AppData\\Local\\Programs\\Python\\Python311\\Lib\\json\\__init__.py:238\u001b[0m, in \u001b[0;36mdumps\u001b[1;34m(obj, skipkeys, ensure_ascii, check_circular, allow_nan, cls, indent, separators, default, sort_keys, **kw)\u001b[0m\n\u001b[0;32m    232\u001b[0m \u001b[39mif\u001b[39;00m \u001b[39mcls\u001b[39m \u001b[39mis\u001b[39;00m \u001b[39mNone\u001b[39;00m:\n\u001b[0;32m    233\u001b[0m     \u001b[39mcls\u001b[39m \u001b[39m=\u001b[39m JSONEncoder\n\u001b[0;32m    234\u001b[0m \u001b[39mreturn\u001b[39;00m \u001b[39mcls\u001b[39;49m(\n\u001b[0;32m    235\u001b[0m     skipkeys\u001b[39m=\u001b[39;49mskipkeys, ensure_ascii\u001b[39m=\u001b[39;49mensure_ascii,\n\u001b[0;32m    236\u001b[0m     check_circular\u001b[39m=\u001b[39;49mcheck_circular, allow_nan\u001b[39m=\u001b[39;49mallow_nan, indent\u001b[39m=\u001b[39;49mindent,\n\u001b[0;32m    237\u001b[0m     separators\u001b[39m=\u001b[39;49mseparators, default\u001b[39m=\u001b[39;49mdefault, sort_keys\u001b[39m=\u001b[39;49msort_keys,\n\u001b[1;32m--> 238\u001b[0m     \u001b[39m*\u001b[39;49m\u001b[39m*\u001b[39;49mkw)\u001b[39m.\u001b[39;49mencode(obj)\n",
      "File \u001b[1;32m~\\AppData\\Local\\Programs\\Python\\Python311\\Lib\\json\\encoder.py:202\u001b[0m, in \u001b[0;36mJSONEncoder.encode\u001b[1;34m(self, o)\u001b[0m\n\u001b[0;32m    200\u001b[0m chunks \u001b[39m=\u001b[39m \u001b[39mself\u001b[39m\u001b[39m.\u001b[39miterencode(o, _one_shot\u001b[39m=\u001b[39m\u001b[39mTrue\u001b[39;00m)\n\u001b[0;32m    201\u001b[0m \u001b[39mif\u001b[39;00m \u001b[39mnot\u001b[39;00m \u001b[39misinstance\u001b[39m(chunks, (\u001b[39mlist\u001b[39m, \u001b[39mtuple\u001b[39m)):\n\u001b[1;32m--> 202\u001b[0m     chunks \u001b[39m=\u001b[39m \u001b[39mlist\u001b[39m(chunks)\n\u001b[0;32m    203\u001b[0m \u001b[39mreturn\u001b[39;00m \u001b[39m'\u001b[39m\u001b[39m'\u001b[39m\u001b[39m.\u001b[39mjoin(chunks)\n",
      "File \u001b[1;32m~\\AppData\\Local\\Programs\\Python\\Python311\\Lib\\json\\encoder.py:430\u001b[0m, in \u001b[0;36m_make_iterencode.<locals>._iterencode\u001b[1;34m(o, _current_indent_level)\u001b[0m\n\u001b[0;32m    428\u001b[0m     \u001b[39myield\u001b[39;00m _floatstr(o)\n\u001b[0;32m    429\u001b[0m \u001b[39melif\u001b[39;00m \u001b[39misinstance\u001b[39m(o, (\u001b[39mlist\u001b[39m, \u001b[39mtuple\u001b[39m)):\n\u001b[1;32m--> 430\u001b[0m     \u001b[39myield from\u001b[39;00m _iterencode_list(o, _current_indent_level)\n\u001b[0;32m    431\u001b[0m \u001b[39melif\u001b[39;00m \u001b[39misinstance\u001b[39m(o, \u001b[39mdict\u001b[39m):\n\u001b[0;32m    432\u001b[0m     \u001b[39myield from\u001b[39;00m _iterencode_dict(o, _current_indent_level)\n",
      "File \u001b[1;32m~\\AppData\\Local\\Programs\\Python\\Python311\\Lib\\json\\encoder.py:326\u001b[0m, in \u001b[0;36m_make_iterencode.<locals>._iterencode_list\u001b[1;34m(lst, _current_indent_level)\u001b[0m\n\u001b[0;32m    324\u001b[0m         \u001b[39melse\u001b[39;00m:\n\u001b[0;32m    325\u001b[0m             chunks \u001b[39m=\u001b[39m _iterencode(value, _current_indent_level)\n\u001b[1;32m--> 326\u001b[0m         \u001b[39myield from\u001b[39;00m chunks\n\u001b[0;32m    327\u001b[0m \u001b[39mif\u001b[39;00m newline_indent \u001b[39mis\u001b[39;00m \u001b[39mnot\u001b[39;00m \u001b[39mNone\u001b[39;00m:\n\u001b[0;32m    328\u001b[0m     _current_indent_level \u001b[39m-\u001b[39m\u001b[39m=\u001b[39m \u001b[39m1\u001b[39m\n",
      "File \u001b[1;32m~\\AppData\\Local\\Programs\\Python\\Python311\\Lib\\json\\encoder.py:439\u001b[0m, in \u001b[0;36m_make_iterencode.<locals>._iterencode\u001b[1;34m(o, _current_indent_level)\u001b[0m\n\u001b[0;32m    437\u001b[0m         \u001b[39mraise\u001b[39;00m \u001b[39mValueError\u001b[39;00m(\u001b[39m\"\u001b[39m\u001b[39mCircular reference detected\u001b[39m\u001b[39m\"\u001b[39m)\n\u001b[0;32m    438\u001b[0m     markers[markerid] \u001b[39m=\u001b[39m o\n\u001b[1;32m--> 439\u001b[0m o \u001b[39m=\u001b[39m _default(o)\n\u001b[0;32m    440\u001b[0m \u001b[39myield from\u001b[39;00m _iterencode(o, _current_indent_level)\n\u001b[0;32m    441\u001b[0m \u001b[39mif\u001b[39;00m markers \u001b[39mis\u001b[39;00m \u001b[39mnot\u001b[39;00m \u001b[39mNone\u001b[39;00m:\n",
      "File \u001b[1;32m~\\AppData\\Local\\Programs\\Python\\Python311\\Lib\\json\\encoder.py:180\u001b[0m, in \u001b[0;36mJSONEncoder.default\u001b[1;34m(self, o)\u001b[0m\n\u001b[0;32m    161\u001b[0m \u001b[39mdef\u001b[39;00m \u001b[39mdefault\u001b[39m(\u001b[39mself\u001b[39m, o):\n\u001b[0;32m    162\u001b[0m \u001b[39m    \u001b[39m\u001b[39m\"\"\"Implement this method in a subclass such that it returns\u001b[39;00m\n\u001b[0;32m    163\u001b[0m \u001b[39m    a serializable object for ``o``, or calls the base implementation\u001b[39;00m\n\u001b[0;32m    164\u001b[0m \u001b[39m    (to raise a ``TypeError``).\u001b[39;00m\n\u001b[1;32m   (...)\u001b[0m\n\u001b[0;32m    178\u001b[0m \n\u001b[0;32m    179\u001b[0m \u001b[39m    \"\"\"\u001b[39;00m\n\u001b[1;32m--> 180\u001b[0m     \u001b[39mraise\u001b[39;00m \u001b[39mTypeError\u001b[39;00m(\u001b[39mf\u001b[39m\u001b[39m'\u001b[39m\u001b[39mObject of type \u001b[39m\u001b[39m{\u001b[39;00mo\u001b[39m.\u001b[39m\u001b[39m__class__\u001b[39m\u001b[39m.\u001b[39m\u001b[39m__name__\u001b[39m\u001b[39m}\u001b[39;00m\u001b[39m \u001b[39m\u001b[39m'\u001b[39m\n\u001b[0;32m    181\u001b[0m                     \u001b[39mf\u001b[39m\u001b[39m'\u001b[39m\u001b[39mis not JSON serializable\u001b[39m\u001b[39m'\u001b[39m)\n",
      "\u001b[1;31mTypeError\u001b[0m: Object of type SortableSensor is not JSON serializable"
     ]
    }
   ],
   "source": [
    "# Serialize object to json string --> uses similar structure to a dict\n",
    "json_string = json.dumps(my_sensors, indent=2)\n",
    "print(json_string)"
   ]
  },
  {
   "cell_type": "markdown",
   "metadata": {},
   "source": [
    "Wir könnten, wie oben wieder das DateTime-Object selbst anpassen. Das ist aber nicht immer möglich, da wir nicht immer Zugriff auf die Klasse haben, die wir serialisieren wollen. \n",
    "\n",
    "Um das `calibration_date` Attribut unserer Klasse serialiseren zu können, schreiben wir uns eine Hilfsfunktion (einen Serializer) um das `datetime`-Objekt in ein `dict`-Objekt zu verwandeln.\n",
    "\n",
    "Diese könnnen wir dann in die `json.dumps()`-Funktion übergeben, um unser Objekt in ein JSON-String umzuwandeln. Die als `default` übergebene Funktion wird für jedes Objekt aufgerufen, das nicht direkt in ein JSON-Objekt umgewandelt werden kann."
   ]
  },
  {
   "cell_type": "code",
   "execution_count": 24,
   "metadata": {},
   "outputs": [
    {
     "name": "stdout",
     "output_type": "stream",
     "text": [
      "[\n",
      "  {\n",
      "    \"id\": 1,\n",
      "    \"sens_type\": \"Temperature\",\n",
      "    \"sensitivity\": 1.0,\n",
      "    \"calibration_date\": {\n",
      "      \"year\": 2022,\n",
      "      \"month\": 1,\n",
      "      \"day\": 1\n",
      "    },\n",
      "    \"_Sensor__last_measurement\": 0.0,\n",
      "    \"measurement_history\": []\n",
      "  },\n",
      "  {\n",
      "    \"id\": 2,\n",
      "    \"sens_type\": \"Pressure\",\n",
      "    \"sensitivity\": 3.0,\n",
      "    \"calibration_date\": {\n",
      "      \"year\": 2023,\n",
      "      \"month\": 8,\n",
      "      \"day\": 17\n",
      "    },\n",
      "    \"_Sensor__last_measurement\": 0.0,\n",
      "    \"measurement_history\": []\n",
      "  },\n",
      "  {\n",
      "    \"id\": 3,\n",
      "    \"sens_type\": \"Humidity\",\n",
      "    \"sensitivity\": 5.0,\n",
      "    \"calibration_date\": {\n",
      "      \"year\": 2021,\n",
      "      \"month\": 10,\n",
      "      \"day\": 31\n",
      "    },\n",
      "    \"_Sensor__last_measurement\": 0.0,\n",
      "    \"measurement_history\": []\n",
      "  }\n",
      "]\n"
     ]
    }
   ],
   "source": [
    "def json_default(obj):\n",
    "    \"\"\"\n",
    "    Define how to serialize objects\n",
    "    Datetime objects will be serialized as dict with year, month, day\n",
    "    All other objects by using their __dict__ attribute\n",
    "\n",
    "    Args:\n",
    "        value (Any): The object to serialize\n",
    "    \"\"\"\n",
    "    if isinstance(obj, datetime):\n",
    "        #return dict(year=obj.year, month=obj.month, day=obj.day)\n",
    "        return {\"year\" : obj.year, \"month\" : obj.month, \"day\" : obj.day}\n",
    "    else:\n",
    "        return obj.__dict__\n",
    "\n",
    "# Serialize object to json string --> uses similar structure to a dict\n",
    "json_string = json.dumps(my_sensors, default=json_default, indent=2)\n",
    "print(json_string)"
   ]
  },
  {
   "cell_type": "markdown",
   "metadata": {},
   "source": [
    "Nun können wir eine JSON-Datei aus diesen Daten erstellen."
   ]
  },
  {
   "cell_type": "code",
   "execution_count": 25,
   "metadata": {},
   "outputs": [],
   "source": [
    "# Open file and write json string to it\n",
    "with open('./sensor.json', \"w\") as f:\n",
    "    f.write(json_string)"
   ]
  }
 ],
 "metadata": {
  "kernelspec": {
   "display_name": ".venv",
   "language": "python",
   "name": "python3"
  },
  "language_info": {
   "codemirror_mode": {
    "name": "ipython",
    "version": 3
   },
   "file_extension": ".py",
   "mimetype": "text/x-python",
   "name": "python",
   "nbconvert_exporter": "python",
   "pygments_lexer": "ipython3",
   "version": "3.12.3"
  },
  "orig_nbformat": 4
 },
 "nbformat": 4,
 "nbformat_minor": 2
}
