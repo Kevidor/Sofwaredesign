{
 "cells": [
  {
   "cell_type": "markdown",
   "metadata": {},
   "source": [
    "<table style=\"width: 100%\">\n",
    "    <tr style=\"background: #ffffff\">\n",
    "        <td style=\"padding-top:25px; width: 180px\">\n",
    "            <img src=\"https://mci.edu/templates/mci/images/logo.svg\" alt=\"Logo\">\n",
    "        </td>\n",
    "        <td style=\"width: 100%\">\n",
    "            <div style=\"width: 100%; text-align:right\"><font style=\"font-size:38px\"><b>Softwaredesign</b></font></div>\n",
    "            <div style=\"padding-top:0px; width: 100%; text-align:right\"><font size=\"4\"><b>Mechatronik</b></font></div>\n",
    "        </td>\n",
    "    </tr>\n",
    "</table>\n",
    "\n",
    "---\n",
    "\n",
    "# Majority Vote Algorithm\n",
    "\n",
    "Implementieren Sie einen Algorithmus mit dem bestimmt werden kann, ob in einer Liste ein Element mit einer absoluten Mehrheit existiert.\n",
    "Damit dies der Fall ist, muss es mindestens $\\frac{n}{2}$-mal vorkommen, wobei $n$ die Anzahl der Elemente in der Liste ist. \n",
    "Ihr Algorithmus soll, falls so ein Element existiert zurück geben um welches Element es sich handelt. Falls kein solches Element existiert soll `None` zurück gegeben werden.\n",
    "\n",
    "## Testdaten\n",
    "Zum Testen werden Sie ihren Algorithmus auf kurze Listen anwenden.\n",
    "```Python\n",
    "my_list   = [2, 8, 7, 4, 1, 5, 2, 3, 1, 2, 2]\n",
    "my_list_2 = [2, 8, 7, 2, 2, 5, 2, 3, 1, 2, 2]\n",
    "```\n",
    "Für `my_list` ist keine absolute Mehrheit vorhanden, ihr Algorithmus soll daher `None` zurück geben.\n",
    "Für `my_list_2` ist die absolute Mehrheit `2`, ihr Algorithmus soll daher `2` zurück geben.\n",
    "\n",
    "## Echte Daten\n",
    "Für den tatsächlichen Fall soll der Algorithmus aber auf Daten angewendet werden, die den gültig abgegebenen Stimmen bei zwei Nationalratswahlen in Österreich entsprechen. Die Länge dieser Listen beläuft sich daher auf ca. 4.8 Millionen Elemente.\n",
    "\n",
    "Dies setzt voraus, dass Sie die Zeitkomplexität Ihres Algorithmus berücksichtigen und hier eine effizient Implementierung wählen. Es lässt sich hier eine Lösung finden die in linearer Zeit ($\\mathcal{O}(n)$) ausgeführt werden kann."
   ]
  },
  {
   "cell_type": "markdown",
   "metadata": {},
   "source": [
    "---\n",
    "## Beginn der Setup-Code-Blöcke\n",
    "Hier werden Daten und Hilfsfunktionen für Sie definiert. Sie müssen diese nicht verstehen, können aber gerne einen Blick darauf werfen.\n",
    "\n",
    "Sie beginnen mit ihrere Implementierung weiter unten im Notebook ab der Überschfit \"Beginn der eigentlichen Implementierung\"."
   ]
  },
  {
   "cell_type": "code",
   "execution_count": 81,
   "metadata": {},
   "outputs": [],
   "source": [
    "import random"
   ]
  },
  {
   "cell_type": "markdown",
   "metadata": {},
   "source": [
    "### Generieren der Testdaten der Nationalratswahl 2019\n",
    "Quelle: https://www.bmi.gv.at/412/Nationalratswahlen/Nationalratswahl_2019/start.aspx  \n",
    "Fiktive Stimmenliste für die Nationalratswahl 2019. Die absolute Anzahl an Stimmen für jede der gelisteten Parteien ist korrekt, jedoch sind die Stimmen und deren Reihenfolge in der Liste fiktiv.  \n",
    "Bei dieser Wahl wurde keine absolute Mehrheit erreicht, daher soll Ihr Algorithmus `None` zurück geben."
   ]
  },
  {
   "cell_type": "code",
   "execution_count": 82,
   "metadata": {},
   "outputs": [
    {
     "name": "stdout",
     "output_type": "stream",
     "text": [
      "Anzahl an Stimmen: 4777246 für 13 Parteien\n"
     ]
    }
   ],
   "source": [
    "parties = [\"ÖVP\", \"SPÖ\", \"FPÖ\", \"NEOS\", \"JETZT\", \"GRÜNE\", \"KPÖ\", \"WANDL\", \"BZÖ\", \"BIER\", \"CPÖ\", \"GILT\", \"SLP\"]\n",
    "amounts = [1789417, 1011868, 772666, 387124, 89169, 664055, 32736, 22168, 760, 4946, 260, 1767, 310]\n",
    "\n",
    "votes_2019 = []\n",
    "for i, amount in enumerate(amounts):\n",
    "    votes_2019.extend([parties[i] for x in range(amount)])\n",
    "\n",
    "random.shuffle(votes_2019)\n",
    "print(F\"Anzahl an Stimmen: {len(votes_2019)} für {len(parties)} Parteien\")"
   ]
  },
  {
   "cell_type": "markdown",
   "metadata": {},
   "source": [
    "### Generieren der Testdaten der Nationalratswahl 1979\n",
    "Quelle: https://www.bmi.gv.at/412/Nationalratswahlen/Nationalratswahl_1979/start.aspx  \n",
    "Fiktive Stimmenliste für die Nationalratswahl 1979. Die absolute Anzahl an Stimmen für jede der gelisteten Parteien ist korrekt, jedoch sind die Stimmen und deren Reihenfolge in der Liste fiktiv.  \n",
    "Dies war die Letzte Nationalratswahl mit absoluter Mehrheit, in diesem Fall für die SPÖ. Ihr Algorithmus soll daher `SPÖ` zurück geben."
   ]
  },
  {
   "cell_type": "code",
   "execution_count": 83,
   "metadata": {},
   "outputs": [
    {
     "name": "stdout",
     "output_type": "stream",
     "text": [
      "Anzahl an Stimmen: 4729251 für 5 Parteien\n"
     ]
    }
   ],
   "source": [
    "parties = [\"ÖVP\", \"SPÖ\", \"FPÖ\", \"KPÖ\", \"CSA\"]\n",
    "amounts = [1981739, 2413226, 286743, 45280, 2263]\n",
    "\n",
    "votes_1979 = []\n",
    "for i, amount in enumerate(amounts):\n",
    "    votes_1979.extend([parties[i] for x in range(amount)])\n",
    "\n",
    "random.shuffle(votes_1979)\n",
    "print(F\"Anzahl an Stimmen: {len(votes_1979)} für {len(parties)} Parteien\")"
   ]
  },
  {
   "cell_type": "markdown",
   "metadata": {},
   "source": [
    "## Definition der simplen Testfälle"
   ]
  },
  {
   "cell_type": "code",
   "execution_count": 84,
   "metadata": {},
   "outputs": [],
   "source": [
    "my_list = [2, 8, 7, 4, 1, 5, 2, 3, 1, 2, 2]\n",
    "my_list_2 = [2, 8, 7, 2, 2, 5, 2, 3, 1, 2, 2]"
   ]
  },
  {
   "cell_type": "markdown",
   "metadata": {},
   "source": [
    "### Löschen von Hilfsvariablen\n",
    "Die Hilfsvariablen die zur Generierung der Listen genutzt wurden werden gelöscht, da diese für die Aufgabenstellung nicht genutzt werden sollen."
   ]
  },
  {
   "cell_type": "code",
   "execution_count": 85,
   "metadata": {},
   "outputs": [],
   "source": [
    "del parties, amounts, i, amount"
   ]
  },
  {
   "cell_type": "markdown",
   "metadata": {},
   "source": [
    "### Timing-Funktion\n",
    "\n",
    "Diese Funktion stellt einen \"Decorator\" dar, der die Laufzeit einer Funktion misst und ausgibt.\n",
    "\n",
    "Die Verwendung sieht wie folgt aus:\n",
    "```Python\n",
    "@timeit\n",
    "def my_function():\n",
    "    # do something\n",
    "    pass\n",
    "\n",
    "#Funktionsaufruf wie gehabt:\n",
    "my_function()\n",
    "```"
   ]
  },
  {
   "cell_type": "code",
   "execution_count": 86,
   "metadata": {},
   "outputs": [],
   "source": [
    "from functools import wraps\n",
    "import time\n",
    "\n",
    "def timeit(func):\n",
    "    @wraps(func)\n",
    "    def timeit_wrapper(*args, **kwargs):\n",
    "        start_time = time.perf_counter()\n",
    "        result = func(*args, **kwargs)\n",
    "        end_time = time.perf_counter()\n",
    "        total_time = end_time - start_time\n",
    "        print(f'@timeit: {func.__name__} took {(total_time*1e3):.4f} milliseconds')\n",
    "        #return result, total_time\n",
    "        return result\n",
    "    return timeit_wrapper"
   ]
  },
  {
   "cell_type": "markdown",
   "metadata": {},
   "source": [
    "---\n",
    "## Beginn der eigentlichen Implementierung\n",
    "Ab hier können Sie mit ihrer eigentlichen Implementierung beginnen."
   ]
  },
  {
   "cell_type": "markdown",
   "metadata": {},
   "source": [
    "## Simpler Ansatz\n",
    "Implementieren Sie hier den ersten Ansatz, der Ihnen einfällt. Dieser muss nicht effizient sein, sollte aber korrekt sein.  \n",
    "Bestimmen Sie für diesen Algorithmus die Zeitkomplexität $\\mathcal{O}$ und geben Sie diese in der Markdown-Zelle weiter unten an.\n",
    "\n",
    "Versehen Sie die Funktion mit dem Decorator `@timeit` um die Laufzeit zu messen."
   ]
  },
  {
   "cell_type": "code",
   "execution_count": 87,
   "metadata": {},
   "outputs": [],
   "source": [
    "@timeit\n",
    "def find_majority_element(a_list):\n",
    "    parties = {}\n",
    "    for vote in a_list:\n",
    "        if vote not in parties: parties[vote] = 1\n",
    "        else: parties[vote] += 1\n",
    "    for partie, votes in parties.items():\n",
    "        if votes > len(a_list)/2: return partie\n",
    "    return None\n"
   ]
  },
  {
   "cell_type": "code",
   "execution_count": 88,
   "metadata": {},
   "outputs": [
    {
     "name": "stdout",
     "output_type": "stream",
     "text": [
      "@timeit: find_majority_element took 0.0471 milliseconds\n",
      "None\n",
      "@timeit: find_majority_element took 0.0020 milliseconds\n",
      "2\n"
     ]
    }
   ],
   "source": [
    "print(find_majority_element(my_list))\n",
    "print(find_majority_element(my_list_2))"
   ]
  },
  {
   "cell_type": "code",
   "execution_count": 89,
   "metadata": {},
   "outputs": [
    {
     "name": "stdout",
     "output_type": "stream",
     "text": [
      "@timeit: find_majority_element took 233.1062 milliseconds\n",
      "SPÖ\n",
      "@timeit: find_majority_element took 233.7642 milliseconds\n",
      "None\n"
     ]
    }
   ],
   "source": [
    "# Mit hoher Wahrscheinlichkeit müssen Sie ihren naiven Algorithmus abbrechen, wenn er für diese Liste zu lange braucht\n",
    "\n",
    "print(find_majority_element(votes_1979))\n",
    "print(find_majority_element(votes_2019))"
   ]
  },
  {
   "cell_type": "markdown",
   "metadata": {},
   "source": [
    "Hier Lösung einfügen:  \n",
    "Die Zeitkomplexität dieses Algorithmus beträgt: $\\mathcal{O}(2n)$"
   ]
  },
  {
   "cell_type": "markdown",
   "metadata": {},
   "source": [
    "---\n",
    "## Effizienter Ansatz\n",
    "Überlegen Sie sich oder recherchieren Sie einen Algorithmus der die Problemstellung effizienter lösen kann.  \n",
    "Es existieren meherere Varianten, eine davon kann in linearer Zeit ($\\mathcal{O}(n)$) ausgeführt werden.\n",
    "\n",
    "Bestimmen Sie für Ihren effizienteren Algorithmus die Zeitkomplexität $\\mathcal{O}$ und geben Sie diese in der Markdown-Zelle weiter unten an."
   ]
  },
  {
   "cell_type": "code",
   "execution_count": 90,
   "metadata": {},
   "outputs": [],
   "source": [
    "from collections import Counter\n",
    "\n",
    "@timeit\n",
    "def find_majority_element_efficient(a_list):\n",
    "    counter = Counter(a_list)\n",
    "    value, count = counter.most_common(1)[0]\n",
    "    if count > len(a_list)/2: return value\n",
    "    return None\n"
   ]
  },
  {
   "cell_type": "code",
   "execution_count": 91,
   "metadata": {},
   "outputs": [
    {
     "name": "stdout",
     "output_type": "stream",
     "text": [
      "@timeit: find_majority_element_efficient took 0.0561 milliseconds\n",
      "None\n",
      "@timeit: find_majority_element_efficient took 0.0058 milliseconds\n",
      "2\n"
     ]
    }
   ],
   "source": [
    "print(find_majority_element_efficient(my_list))\n",
    "print(find_majority_element_efficient(my_list_2))"
   ]
  },
  {
   "cell_type": "code",
   "execution_count": 92,
   "metadata": {},
   "outputs": [
    {
     "name": "stdout",
     "output_type": "stream",
     "text": [
      "@timeit: find_majority_element_efficient took 112.7797 milliseconds\n",
      "None\n",
      "@timeit: find_majority_element_efficient took 103.0266 milliseconds\n",
      "SPÖ\n"
     ]
    }
   ],
   "source": [
    "print(find_majority_element_efficient(votes_2019))\n",
    "print(find_majority_element_efficient(votes_1979))"
   ]
  },
  {
   "cell_type": "markdown",
   "metadata": {},
   "source": [
    "Hier Lösung einfügen:  \n",
    "Die Zeitkomplexität dieses Algorithmus beträgt: $\\mathcal{O}(n)$"
   ]
  },
  {
   "cell_type": "markdown",
   "metadata": {},
   "source": [
    "---\n",
    "## OPTIONAL: Zweiter effizienter Ansatz\n",
    "\n",
    "Es existieren mehrere effiziente Ansätze, die Problemstellung zu lösen.  \n",
    "Falls Sie noch weitere Ansätze implementieren wollen, können Sie dies hier optional gerne tun."
   ]
  },
  {
   "cell_type": "code",
   "execution_count": 93,
   "metadata": {},
   "outputs": [],
   "source": [
    "from bisect import bisect_left, bisect_right\n",
    "\n",
    "@timeit\n",
    "def find_majority_element_sorting(a_list):\n",
    "    a_list.sort()\n",
    "    \n",
    "    candidate = a_list[len(a_list) // 2]\n",
    "    \n",
    "    left_index = bisect_left(a_list, candidate)\n",
    "    right_index = bisect_right(a_list, candidate)\n",
    "    \n",
    "    if (right_index - left_index) > len(a_list) // 2:\n",
    "        return candidate\n",
    "    return None"
   ]
  },
  {
   "cell_type": "code",
   "execution_count": 94,
   "metadata": {},
   "outputs": [
    {
     "name": "stdout",
     "output_type": "stream",
     "text": [
      "@timeit: find_majority_element_sorting took 0.0446 milliseconds\n",
      "None\n",
      "@timeit: find_majority_element_sorting took 0.0018 milliseconds\n",
      "2\n",
      "@timeit: find_majority_element_sorting took 179.3836 milliseconds\n",
      "SPÖ\n",
      "@timeit: find_majority_element_sorting took 263.1547 milliseconds\n",
      "None\n"
     ]
    }
   ],
   "source": [
    "print(find_majority_element_sorting(my_list))\n",
    "print(find_majority_element_sorting(my_list_2))\n",
    "\n",
    "print(find_majority_element_sorting(votes_1979))\n",
    "print(find_majority_element_sorting(votes_2019))"
   ]
  },
  {
   "cell_type": "markdown",
   "metadata": {},
   "source": [
    "---\n",
    "## Tests für simplen Algorithmus"
   ]
  },
  {
   "cell_type": "code",
   "execution_count": 95,
   "metadata": {},
   "outputs": [
    {
     "name": "stdout",
     "output_type": "stream",
     "text": [
      "@timeit: find_majority_element took 0.0032 milliseconds\n",
      "@timeit: find_majority_element took 0.0028 milliseconds\n",
      "@timeit: find_majority_element took 255.0833 milliseconds\n",
      "@timeit: find_majority_element took 227.6069 milliseconds\n"
     ]
    }
   ],
   "source": [
    "assert find_majority_element(my_list) == None\n",
    "assert find_majority_element(my_list_2) == 2\n",
    "assert find_majority_element(votes_1979) == \"SPÖ\"\n",
    "assert find_majority_element(votes_2019) == None"
   ]
  },
  {
   "cell_type": "markdown",
   "metadata": {},
   "source": [
    "---\n",
    "## Tests für effizienten Algorithmus"
   ]
  },
  {
   "cell_type": "code",
   "execution_count": 96,
   "metadata": {},
   "outputs": [
    {
     "name": "stdout",
     "output_type": "stream",
     "text": [
      "@timeit: find_majority_element_efficient took 0.0154 milliseconds\n",
      "@timeit: find_majority_element_efficient took 0.0070 milliseconds\n",
      "@timeit: find_majority_element_efficient took 124.6034 milliseconds\n",
      "@timeit: find_majority_element_efficient took 105.7920 milliseconds\n"
     ]
    }
   ],
   "source": [
    "assert find_majority_element_efficient(my_list) == None\n",
    "assert find_majority_element_efficient(my_list_2) == 2\n",
    "assert find_majority_element_efficient(votes_1979) == \"SPÖ\"\n",
    "assert find_majority_element_efficient(votes_2019) == None"
   ]
  },
  {
   "cell_type": "markdown",
   "metadata": {},
   "source": [
    "---\n",
    "## OPTIONAL: Tests für 3. Algorithmus"
   ]
  },
  {
   "cell_type": "code",
   "execution_count": 97,
   "metadata": {},
   "outputs": [
    {
     "name": "stdout",
     "output_type": "stream",
     "text": [
      "@timeit: find_majority_element_sorting took 0.0033 milliseconds\n",
      "@timeit: find_majority_element_sorting took 0.0011 milliseconds\n",
      "@timeit: find_majority_element_sorting took 24.5990 milliseconds\n",
      "@timeit: find_majority_element_sorting took 24.5920 milliseconds\n"
     ]
    }
   ],
   "source": [
    "assert find_majority_element_sorting(my_list) == None\n",
    "assert find_majority_element_sorting(my_list_2) == 2\n",
    "assert find_majority_element_sorting(votes_1979) == \"SPÖ\"\n",
    "assert find_majority_element_sorting(votes_2019) == None"
   ]
  }
 ],
 "metadata": {
  "kernelspec": {
   "display_name": ".venv",
   "language": "python",
   "name": "python3"
  },
  "language_info": {
   "codemirror_mode": {
    "name": "ipython",
    "version": 3
   },
   "file_extension": ".py",
   "mimetype": "text/x-python",
   "name": "python",
   "nbconvert_exporter": "python",
   "pygments_lexer": "ipython3",
   "version": "3.12.3"
  },
  "orig_nbformat": 4
 },
 "nbformat": 4,
 "nbformat_minor": 2
}
